{
  "nbformat": 4,
  "nbformat_minor": 0,
  "metadata": {
    "colab": {
      "name": "Intro_to_GNN.ipynb",
      "provenance": []
    },
    "kernelspec": {
      "name": "python3",
      "display_name": "Python 3"
    },
    "language_info": {
      "name": "python"
    },
    "accelerator": "GPU"
  },
  "cells": [
    {
      "cell_type": "markdown",
      "source": [
        "# **Introduction to GNN**\n",
        "\n",
        "by Ding"
      ],
      "metadata": {
        "id": "6LFh-AhUYZNF"
      }
    },
    {
      "cell_type": "markdown",
      "source": [
        "This notebook demonstrates node classification by graph neural network (GNN) with a small toy dataset.\n",
        "\n",
        "Reference: [DGL](https://docs.dgl.ai/en/0.6.x/guide/training-node.html); alternative reference: [UvA](https://uvadlc-notebooks.readthedocs.io/en/latest/tutorial_notebooks/tutorial7/GNN_overview.html)"
      ],
      "metadata": {
        "id": "GJuKPTf7Yhok"
      }
    },
    {
      "cell_type": "markdown",
      "source": [
        "## **1. Graph**\n",
        "\n",
        "**1.1. View a DGL Dataset**\n",
        "\n",
        "There are multiple GNN libraries. We use DGL in this notebook for its simplicity.\n",
        "\n",
        "Note: Install the DGL 0.7.2 version to avoid [a data importation error](https://github.com/dmlc/dgl/issues/3591).\n"
      ],
      "metadata": {
        "id": "BsZG-1nVY4lG"
      }
    },
    {
      "cell_type": "code",
      "source": [
        "!pip install dgl -f https://data.dgl.ai/wheels/repo.html\n",
        "\n",
        "import numpy as np\n",
        "import random\n",
        "\n",
        "import torch\n",
        "\n",
        "import dgl\n",
        "import dgl.nn as dglnn\n",
        "import dgl.data\n",
        "import torch.nn as nn\n",
        "import torch.nn.functional as F"
      ],
      "metadata": {
        "colab": {
          "base_uri": "https://localhost:8080/"
        },
        "id": "nIHrgwbVhLW1",
        "outputId": "ea44278e-0be5-49ea-f247-b15ab58f2a9f"
      },
      "execution_count": 642,
      "outputs": [
        {
          "output_type": "stream",
          "name": "stdout",
          "text": [
            "Looking in links: https://data.dgl.ai/wheels/repo.html\n",
            "Requirement already satisfied: dgl in /usr/local/lib/python3.7/dist-packages (0.7.2)\n",
            "Requirement already satisfied: requests>=2.19.0 in /usr/local/lib/python3.7/dist-packages (from dgl) (2.23.0)\n",
            "Requirement already satisfied: networkx>=2.1 in /usr/local/lib/python3.7/dist-packages (from dgl) (2.6.3)\n",
            "Requirement already satisfied: numpy>=1.14.0 in /usr/local/lib/python3.7/dist-packages (from dgl) (1.19.5)\n",
            "Requirement already satisfied: scipy>=1.1.0 in /usr/local/lib/python3.7/dist-packages (from dgl) (1.4.1)\n",
            "Requirement already satisfied: idna<3,>=2.5 in /usr/local/lib/python3.7/dist-packages (from requests>=2.19.0->dgl) (2.10)\n",
            "Requirement already satisfied: urllib3!=1.25.0,!=1.25.1,<1.26,>=1.21.1 in /usr/local/lib/python3.7/dist-packages (from requests>=2.19.0->dgl) (1.24.3)\n",
            "Requirement already satisfied: chardet<4,>=3.0.2 in /usr/local/lib/python3.7/dist-packages (from requests>=2.19.0->dgl) (3.0.4)\n",
            "Requirement already satisfied: certifi>=2017.4.17 in /usr/local/lib/python3.7/dist-packages (from requests>=2.19.0->dgl) (2021.10.8)\n"
          ]
        }
      ]
    },
    {
      "cell_type": "markdown",
      "source": [
        "Download and briefly view a DLG dataset: \"CiteseerGraphDataset.\""
      ],
      "metadata": {
        "id": "HszY_iVD2kCG"
      }
    },
    {
      "cell_type": "code",
      "source": [
        "print(\"Info:\")\n",
        "\n",
        "dataset = dgl.data.CiteseerGraphDataset()\n",
        "graph = dataset[0]\n",
        "\n",
        "print()\n",
        "print(\"Nodes:\")\n",
        "print(graph.ndata)\n",
        "\n",
        "print()\n",
        "print(\"Edges:\")\n",
        "print(graph.edata)"
      ],
      "metadata": {
        "colab": {
          "base_uri": "https://localhost:8080/"
        },
        "id": "eR_AbSzOhHgG",
        "outputId": "179cc46c-c112-4756-fadc-669d7e747ce7"
      },
      "execution_count": 643,
      "outputs": [
        {
          "output_type": "stream",
          "name": "stdout",
          "text": [
            "Info:\n",
            "  NumNodes: 3327\n",
            "  NumEdges: 9228\n",
            "  NumFeats: 3703\n",
            "  NumClasses: 6\n",
            "  NumTrainingSamples: 120\n",
            "  NumValidationSamples: 500\n",
            "  NumTestSamples: 1000\n",
            "Done loading data from cached files.\n",
            "\n",
            "Nodes:\n",
            "{'feat': tensor([[0., 0., 0.,  ..., 0., 0., 0.],\n",
            "        [0., 0., 0.,  ..., 0., 0., 0.],\n",
            "        [0., 0., 0.,  ..., 0., 0., 0.],\n",
            "        ...,\n",
            "        [0., 0., 0.,  ..., 0., 0., 0.],\n",
            "        [0., 0., 0.,  ..., 0., 0., 0.],\n",
            "        [0., 0., 0.,  ..., 0., 0., 0.]]), 'label': tensor([1, 4, 1,  ..., 5, 3, 3]), 'test_mask': tensor([False, False, False,  ..., False, False, False]), 'train_mask': tensor([False,  True, False,  ..., False, False,  True]), 'val_mask': tensor([False, False, False,  ..., False, False, False])}\n",
            "\n",
            "Edges:\n",
            "{}\n"
          ]
        }
      ]
    },
    {
      "cell_type": "markdown",
      "source": [
        "**1.2. Graph Structure**\n",
        "\n",
        "Referring to \"CiteseerGraphDataset,\" first of all, generate a small toy dataset.\n",
        "\n",
        "Create a fully-connnected undirected graph structure with 10 nodes without assgining any value."
      ],
      "metadata": {
        "id": "U2uR9SkPYXMj"
      }
    },
    {
      "cell_type": "code",
      "source": [
        "def graph_structure():\n",
        "  u = []\n",
        "  v = []\n",
        "  for i in range(10):\n",
        "    for j in range(10):\n",
        "      if j == i:\n",
        "        pass\n",
        "      else:\n",
        "        u.append(i)\n",
        "        v.append(j)\n",
        "  return torch.tensor(u), torch.tensor(v)\n",
        "\n",
        "u, v = graph_structure()\n",
        "\n",
        "print(\"Direction (going from the nodes in the first list to the nodes in the second list):\")\n",
        "print(u)\n",
        "print(v)\n",
        "\n",
        "graph = dgl.graph((u, v))\n",
        "\n",
        "print()\n",
        "print(\"Graph:\")\n",
        "print(graph)"
      ],
      "metadata": {
        "colab": {
          "base_uri": "https://localhost:8080/"
        },
        "id": "-hZIofVGYXTT",
        "outputId": "803df09b-8a9c-4c61-e80f-a23cd9172105"
      },
      "execution_count": 644,
      "outputs": [
        {
          "output_type": "stream",
          "name": "stdout",
          "text": [
            "Direction (going from the nodes in the first list to the nodes in the second list):\n",
            "tensor([0, 0, 0,  ..., 9, 9, 9])\n",
            "tensor([1, 2, 3,  ..., 6, 7, 8])\n",
            "\n",
            "Graph:\n",
            "Graph(num_nodes=10, num_edges=90,\n",
            "      ndata_schemes={}\n",
            "      edata_schemes={})\n"
          ]
        }
      ]
    },
    {
      "cell_type": "markdown",
      "source": [
        "**1.2. Node Feature Tensor**\n",
        "\n",
        "Randomly generate two types of arrays: \"a(x)=x\" and \"a(x)=e^x,\" where x is a random number between 0 and 1, with 5 arrays for each type. \n",
        "\n",
        "Create binary classes 0 and 1. the \"a(x)=x\" array is associated with Class 0, and the \"a(x)=e^x\" array is associated with Class 1."
      ],
      "metadata": {
        "id": "UPEyAYD33q2y"
      }
    },
    {
      "cell_type": "code",
      "source": [
        "def linear(x):\n",
        "  return x\n",
        "\n",
        "def exponential(x):\n",
        "  return np.exp(x)\n",
        "\n",
        "def node_feature_tensor():\n",
        "  node_feature = []\n",
        "  node_class = []\n",
        "  count = 0\n",
        "  while count < 10:\n",
        "    if count < 5:\n",
        "      node_feature.append(list([linear(i * random.uniform(0, 1)) for i in [1]*10]))\n",
        "      node_class.append(0)\n",
        "    else:\n",
        "      node_feature.append(list([exponential(i * random.uniform(0, 1)) for i in [1]*10]))\n",
        "      node_class.append(1)\n",
        "    count += 1\n",
        "  return torch.tensor(node_feature), torch.tensor(node_class)\n",
        "\n",
        "node_feature, node_class = node_feature_tensor()"
      ],
      "metadata": {
        "id": "BtvsVuxs-deQ"
      },
      "execution_count": 645,
      "outputs": []
    },
    {
      "cell_type": "code",
      "source": [
        "print(\"Node features:\")\n",
        "print(node_feature)\n",
        "print()\n",
        "print(\"Node classes:\")\n",
        "print(node_class)"
      ],
      "metadata": {
        "colab": {
          "base_uri": "https://localhost:8080/"
        },
        "id": "YbrOAl5KCvDx",
        "outputId": "7d9563d8-c59d-4758-88bd-23b8e5af5411"
      },
      "execution_count": 646,
      "outputs": [
        {
          "output_type": "stream",
          "name": "stdout",
          "text": [
            "Node features:\n",
            "tensor([[0.3287, 0.6878, 0.5039,  ..., 0.2880, 0.6148, 0.9426],\n",
            "        [0.7390, 0.9983, 0.3822,  ..., 0.9181, 0.1282, 0.8551],\n",
            "        [0.0095, 0.9849, 0.4786,  ..., 0.9991, 0.7774, 0.2692],\n",
            "        ...,\n",
            "        [1.2242, 1.7502, 1.2433,  ..., 1.0114, 1.5441, 1.0479],\n",
            "        [1.8646, 1.3690, 2.4280,  ..., 1.1794, 1.5674, 2.6962],\n",
            "        [1.3023, 2.2803, 2.3010,  ..., 1.1964, 1.8489, 1.0229]],\n",
            "       dtype=torch.float64)\n",
            "\n",
            "Node classes:\n",
            "tensor([0, 0, 0, 0, 0, 1, 1, 1, 1, 1])\n"
          ]
        }
      ]
    },
    {
      "cell_type": "markdown",
      "source": [
        "Connect the node features and the node classes with the graph."
      ],
      "metadata": {
        "id": "_LQk6WoH668k"
      }
    },
    {
      "cell_type": "code",
      "source": [
        "graph.ndata[\"feat\"] = node_feature\n",
        "graph.ndata[\"label\"] = node_class"
      ],
      "metadata": {
        "id": "9CdAxiLjbbJ3"
      },
      "execution_count": 647,
      "outputs": []
    },
    {
      "cell_type": "markdown",
      "source": [
        "**1.3. Training, Validation and Test Nodes**\n",
        "\n",
        "Use 7 nodes for traning, 1 node for validation and 2 nodes for testing. Create the three corresponding mask tensors."
      ],
      "metadata": {
        "id": "etW3plQYRl1b"
      }
    },
    {
      "cell_type": "code",
      "source": [
        "def masks():\n",
        "  train = [True] * 10\n",
        "  val = [False] * 10\n",
        "  test = [False] * 10\n",
        "  val_node, test_node_1, test_node_2 = random.sample(range(0, 10), 3)\n",
        "  train[val_node], train[test_node_1], train[test_node_2] = False, False, False\n",
        "  val[val_node] = True\n",
        "  test[test_node_1], test[test_node_2] = True, True\n",
        "  return torch.tensor(train), torch.tensor(val), torch.tensor(test)\n",
        "\n",
        "train_mask, val_mask, test_mask = masks()\n",
        "\n",
        "print(\"Training mask:\")\n",
        "print(train_mask)\n",
        "print()\n",
        "print(\"Validation mask:\")\n",
        "print(val_mask)\n",
        "print()\n",
        "print(\"Test mask:\")\n",
        "print(test_mask)"
      ],
      "metadata": {
        "colab": {
          "base_uri": "https://localhost:8080/"
        },
        "id": "t5PiZ35SRPwL",
        "outputId": "1657e22d-49cd-4dd5-928d-dc9424837021"
      },
      "execution_count": 648,
      "outputs": [
        {
          "output_type": "stream",
          "name": "stdout",
          "text": [
            "Training mask:\n",
            "tensor([False,  True,  True,  True,  True,  True, False, False,  True,  True])\n",
            "\n",
            "Validation mask:\n",
            "tensor([False, False, False, False, False, False,  True, False, False, False])\n",
            "\n",
            "Test mask:\n",
            "tensor([ True, False, False, False, False, False, False,  True, False, False])\n"
          ]
        }
      ]
    },
    {
      "cell_type": "markdown",
      "source": [
        "Connect the masks with the graph."
      ],
      "metadata": {
        "id": "BAuzEaab7JP3"
      }
    },
    {
      "cell_type": "code",
      "source": [
        "graph.ndata[\"train_mask\"] = train_mask\n",
        "graph.ndata[\"val_mask\"] = val_mask\n",
        "graph.ndata[\"test_mask\"] = test_mask"
      ],
      "metadata": {
        "id": "UGk7lV_6bm2J"
      },
      "execution_count": 649,
      "outputs": []
    },
    {
      "cell_type": "markdown",
      "source": [
        "**1.4. Edge Weight Tensor**\n",
        "\n",
        "Assign weights to the edges. Manually, assign a greater weight 0.8 to the edges between the nodes in the same class, and assign a smaller weight 0.3 otherwise."
      ],
      "metadata": {
        "id": "Vi-_IKE2QLnx"
      }
    },
    {
      "cell_type": "code",
      "source": [
        "def weights():\n",
        "  weights = []\n",
        "  class_0 = [0, 1, 2, 3, 4]\n",
        "  class_1 = [5, 6, 7, 8, 9]\n",
        "  for i in range(len(u)):\n",
        "    if (u[i] in class_0 and v[i] in class_0) or (u[i] in class_1 and v[i] in class_1):\n",
        "      weights.append(0.8)\n",
        "    else:\n",
        "      weights.append(0.3)\n",
        "  return torch.tensor(weights)\n",
        "\n",
        "w = weights()\n",
        "\n",
        "print(\"Edge weights:\")\n",
        "print(w)"
      ],
      "metadata": {
        "colab": {
          "base_uri": "https://localhost:8080/"
        },
        "id": "f0SFXI0Vd0TI",
        "outputId": "7b5d31bd-8f77-48b6-a45d-4037cb3bc62f"
      },
      "execution_count": 650,
      "outputs": [
        {
          "output_type": "stream",
          "name": "stdout",
          "text": [
            "Edge weights:\n",
            "tensor([0.8000, 0.8000, 0.8000,  ..., 0.8000, 0.8000, 0.8000])\n"
          ]
        }
      ]
    },
    {
      "cell_type": "markdown",
      "source": [
        "Connect the edge weights with the graph."
      ],
      "metadata": {
        "id": "ho3O7vct7MEl"
      }
    },
    {
      "cell_type": "code",
      "source": [
        "graph.edata['w'] = w "
      ],
      "metadata": {
        "id": "7Wlgc3tAfPYT"
      },
      "execution_count": 651,
      "outputs": []
    },
    {
      "cell_type": "markdown",
      "source": [
        "Look at the graph we generated."
      ],
      "metadata": {
        "id": "VbtrW4TqfUCi"
      }
    },
    {
      "cell_type": "code",
      "source": [
        "print(graph)"
      ],
      "metadata": {
        "colab": {
          "base_uri": "https://localhost:8080/"
        },
        "id": "4HbV3xAnfXdM",
        "outputId": "5d15a170-2215-4568-84bf-4bfcfb7eb764"
      },
      "execution_count": 652,
      "outputs": [
        {
          "output_type": "stream",
          "name": "stdout",
          "text": [
            "Graph(num_nodes=10, num_edges=90,\n",
            "      ndata_schemes={'feat': Scheme(shape=(10,), dtype=torch.float64), 'label': Scheme(shape=(), dtype=torch.int64), 'train_mask': Scheme(shape=(), dtype=torch.bool), 'val_mask': Scheme(shape=(), dtype=torch.bool), 'test_mask': Scheme(shape=(), dtype=torch.bool)}\n",
            "      edata_schemes={'w': Scheme(shape=(), dtype=torch.float32)})\n"
          ]
        }
      ]
    },
    {
      "cell_type": "markdown",
      "source": [
        "# **2. GNN**\n",
        "\n",
        "**2.1. Set up a GNN**\n",
        "\n",
        "Contruct a two-layer GNN model."
      ],
      "metadata": {
        "id": "IqH8sQS6cCno"
      }
    },
    {
      "cell_type": "code",
      "source": [
        "class SAGE(nn.Module):\n",
        "    def __init__(self, in_feats, hid_feats, out_feats):\n",
        "        super().__init__()\n",
        "        self.conv1 = dglnn.SAGEConv(\n",
        "            in_feats=in_feats, out_feats=hid_feats, aggregator_type='mean')\n",
        "        self.conv2 = dglnn.SAGEConv(\n",
        "            in_feats=hid_feats, out_feats=out_feats, aggregator_type='mean')\n",
        "\n",
        "    def forward(self, graph, inputs):\n",
        "        # Inputs are features of nodes.\n",
        "        h = self.conv1(graph, inputs)\n",
        "        h = torch.tanh(h)\n",
        "        h = self.conv2(graph, h)\n",
        "        return h"
      ],
      "metadata": {
        "id": "Bedl6FJScCC_"
      },
      "execution_count": 653,
      "outputs": []
    },
    {
      "cell_type": "markdown",
      "source": [
        "Load the variables from the graph."
      ],
      "metadata": {
        "id": "EPVvKYUQM13_"
      }
    },
    {
      "cell_type": "code",
      "source": [
        "node_features = graph.ndata['feat']\n",
        "node_labels = graph.ndata['label']\n",
        "train_mask = graph.ndata['train_mask']\n",
        "valid_mask = graph.ndata['val_mask']\n",
        "test_mask = graph.ndata['test_mask']\n",
        "n_features = node_features.shape[1]\n",
        "n_labels = int(node_labels.max().item() + 1)"
      ],
      "metadata": {
        "id": "1wD8Dewa-zbr"
      },
      "execution_count": 654,
      "outputs": []
    },
    {
      "cell_type": "markdown",
      "source": [
        "**2.2. Node Classification**\n",
        "\n",
        "Define an evaluation function."
      ],
      "metadata": {
        "id": "SOzDTc8DNAdK"
      }
    },
    {
      "cell_type": "code",
      "source": [
        "def evaluate(model, graph, features, labels, mask):\n",
        "    model.eval()\n",
        "    with torch.no_grad():\n",
        "        logits = model(graph, features)\n",
        "        logits = logits[mask]\n",
        "        labels = labels[mask]\n",
        "        _, indices = torch.max(logits, dim=1)\n",
        "        print(\"Validation / test observed class:\", labels.tolist(), \"| predicted class:\", indices.tolist())\n",
        "        correct = torch.sum(indices == labels)\n",
        "        return correct.item() * 1.0 / len(labels)"
      ],
      "metadata": {
        "id": "qvxI6gRV-7Pb"
      },
      "execution_count": 655,
      "outputs": []
    },
    {
      "cell_type": "markdown",
      "source": [
        "Train, validate and test the GNN model for node classification.\n",
        "\n",
        "Note: Add .float() after node_features to avoid [a runtime error](https://stackoverflow.com/questions/66074684/runtimeerror-expected-scalar-type-double-but-found-float-in-pytorch-cnn-train)."
      ],
      "metadata": {
        "id": "HZJhs-jNCoYJ"
      }
    },
    {
      "cell_type": "code",
      "source": [
        "model = SAGE(in_feats=n_features, hid_feats=100, out_feats=n_labels)\n",
        "opt = torch.optim.Adam(model.parameters())\n",
        "\n",
        "for epoch in range(30):\n",
        "    print(\"Epoch:\", epoch)\n",
        "    model.train()\n",
        "    # Forward propagation by using all nodes\n",
        "    logits = model(graph, node_features.float())\n",
        "    # Compute loss.\n",
        "    loss = F.cross_entropy(logits[train_mask], node_labels[train_mask])\n",
        "    # Compute validation accuracy.\n",
        "    acc = evaluate(model, graph, node_features.float(), node_labels, valid_mask)\n",
        "    # Backward propagation\n",
        "    opt.zero_grad()\n",
        "    loss.backward()\n",
        "    opt.step()\n",
        "    print(\"Training loss: %.4f\" % loss.item(), \"| validation accuracy:\", acc)\n",
        "    print()\n",
        "\n",
        "print(\"--------------------\")\n",
        "test_acc = evaluate(model, graph, node_features.float(), node_labels, test_mask)\n",
        "print(\"Test accuracy: \", test_acc)"
      ],
      "metadata": {
        "colab": {
          "base_uri": "https://localhost:8080/"
        },
        "id": "YWrRGlx_-9Gl",
        "outputId": "31891dcd-0738-4ed4-c9f3-5912532338f1"
      },
      "execution_count": 656,
      "outputs": [
        {
          "output_type": "stream",
          "name": "stdout",
          "text": [
            "Epoch: 0\n",
            "Validation / test observed class: [1] | predicted class: [1]\n",
            "Training loss: 1.6321 | validation accuracy: 1.0\n",
            "\n",
            "Epoch: 1\n",
            "Validation / test observed class: [1] | predicted class: [1]\n",
            "Training loss: 1.3518 | validation accuracy: 1.0\n",
            "\n",
            "Epoch: 2\n",
            "Validation / test observed class: [1] | predicted class: [1]\n",
            "Training loss: 1.1015 | validation accuracy: 1.0\n",
            "\n",
            "Epoch: 3\n",
            "Validation / test observed class: [1] | predicted class: [1]\n",
            "Training loss: 0.8952 | validation accuracy: 1.0\n",
            "\n",
            "Epoch: 4\n",
            "Validation / test observed class: [1] | predicted class: [1]\n",
            "Training loss: 0.7454 | validation accuracy: 1.0\n",
            "\n",
            "Epoch: 5\n",
            "Validation / test observed class: [1] | predicted class: [1]\n",
            "Training loss: 0.6560 | validation accuracy: 1.0\n",
            "\n",
            "Epoch: 6\n",
            "Validation / test observed class: [1] | predicted class: [0]\n",
            "Training loss: 0.6174 | validation accuracy: 0.0\n",
            "\n",
            "Epoch: 7\n",
            "Validation / test observed class: [1] | predicted class: [0]\n",
            "Training loss: 0.6092 | validation accuracy: 0.0\n",
            "\n",
            "Epoch: 8\n",
            "Validation / test observed class: [1] | predicted class: [0]\n",
            "Training loss: 0.6104 | validation accuracy: 0.0\n",
            "\n",
            "Epoch: 9\n",
            "Validation / test observed class: [1] | predicted class: [0]\n",
            "Training loss: 0.6067 | validation accuracy: 0.0\n",
            "\n",
            "Epoch: 10\n",
            "Validation / test observed class: [1] | predicted class: [0]\n",
            "Training loss: 0.5912 | validation accuracy: 0.0\n",
            "\n",
            "Epoch: 11\n",
            "Validation / test observed class: [1] | predicted class: [0]\n",
            "Training loss: 0.5630 | validation accuracy: 0.0\n",
            "\n",
            "Epoch: 12\n",
            "Validation / test observed class: [1] | predicted class: [0]\n",
            "Training loss: 0.5241 | validation accuracy: 0.0\n",
            "\n",
            "Epoch: 13\n",
            "Validation / test observed class: [1] | predicted class: [0]\n",
            "Training loss: 0.4784 | validation accuracy: 0.0\n",
            "\n",
            "Epoch: 14\n",
            "Validation / test observed class: [1] | predicted class: [0]\n",
            "Training loss: 0.4302 | validation accuracy: 0.0\n",
            "\n",
            "Epoch: 15\n",
            "Validation / test observed class: [1] | predicted class: [0]\n",
            "Training loss: 0.3838 | validation accuracy: 0.0\n",
            "\n",
            "Epoch: 16\n",
            "Validation / test observed class: [1] | predicted class: [1]\n",
            "Training loss: 0.3425 | validation accuracy: 1.0\n",
            "\n",
            "Epoch: 17\n",
            "Validation / test observed class: [1] | predicted class: [1]\n",
            "Training loss: 0.3082 | validation accuracy: 1.0\n",
            "\n",
            "Epoch: 18\n",
            "Validation / test observed class: [1] | predicted class: [1]\n",
            "Training loss: 0.2817 | validation accuracy: 1.0\n",
            "\n",
            "Epoch: 19\n",
            "Validation / test observed class: [1] | predicted class: [1]\n",
            "Training loss: 0.2622 | validation accuracy: 1.0\n",
            "\n",
            "Epoch: 20\n",
            "Validation / test observed class: [1] | predicted class: [1]\n",
            "Training loss: 0.2482 | validation accuracy: 1.0\n",
            "\n",
            "Epoch: 21\n",
            "Validation / test observed class: [1] | predicted class: [1]\n",
            "Training loss: 0.2376 | validation accuracy: 1.0\n",
            "\n",
            "Epoch: 22\n",
            "Validation / test observed class: [1] | predicted class: [1]\n",
            "Training loss: 0.2287 | validation accuracy: 1.0\n",
            "\n",
            "Epoch: 23\n",
            "Validation / test observed class: [1] | predicted class: [1]\n",
            "Training loss: 0.2201 | validation accuracy: 1.0\n",
            "\n",
            "Epoch: 24\n",
            "Validation / test observed class: [1] | predicted class: [1]\n",
            "Training loss: 0.2108 | validation accuracy: 1.0\n",
            "\n",
            "Epoch: 25\n",
            "Validation / test observed class: [1] | predicted class: [1]\n",
            "Training loss: 0.2005 | validation accuracy: 1.0\n",
            "\n",
            "Epoch: 26\n",
            "Validation / test observed class: [1] | predicted class: [1]\n",
            "Training loss: 0.1893 | validation accuracy: 1.0\n",
            "\n",
            "Epoch: 27\n",
            "Validation / test observed class: [1] | predicted class: [1]\n",
            "Training loss: 0.1774 | validation accuracy: 1.0\n",
            "\n",
            "Epoch: 28\n",
            "Validation / test observed class: [1] | predicted class: [1]\n",
            "Training loss: 0.1654 | validation accuracy: 1.0\n",
            "\n",
            "Epoch: 29\n",
            "Validation / test observed class: [1] | predicted class: [1]\n",
            "Training loss: 0.1537 | validation accuracy: 1.0\n",
            "\n",
            "--------------------\n",
            "Validation / test observed class: [0, 1] | predicted class: [0, 1]\n",
            "Test accuracy:  1.0\n"
          ]
        }
      ]
    },
    {
      "cell_type": "markdown",
      "source": [
        "**2.3. Node Regression**\n",
        "\n"
      ],
      "metadata": {
        "id": "8THfFfAbOxJq"
      }
    },
    {
      "cell_type": "markdown",
      "source": [
        "We need to change the graph. Instead of assigning a class to a node, assign a ground truth number to every node.\n",
        "\n",
        "Generate some random numbers for the 10 nodes."
      ],
      "metadata": {
        "id": "MvS27m-BQmgJ"
      }
    },
    {
      "cell_type": "code",
      "source": [
        "def node_ground_truth_number():\n",
        "  node_number = []\n",
        "  count = 0\n",
        "  while count < 10:\n",
        "    if count < 5:\n",
        "      node_number.append(random.uniform(0.1, 0.4))\n",
        "    else:\n",
        "      node_number.append(random.uniform(0.6, 0.9))\n",
        "    count += 1\n",
        "  return torch.tensor(node_number)\n",
        "\n",
        "node_number = node_ground_truth_number()\n",
        "\n",
        "graph.ndata['label'] = node_number"
      ],
      "metadata": {
        "id": "_rUvyPP7Q1Zp"
      },
      "execution_count": 623,
      "outputs": []
    },
    {
      "cell_type": "code",
      "source": [
        "node_labels = graph.ndata['label']"
      ],
      "metadata": {
        "id": "6FOjX4DKSea7"
      },
      "execution_count": 624,
      "outputs": []
    },
    {
      "cell_type": "markdown",
      "source": [
        "Slightly modify the code in 2.2 and convert the task into a regression task.\n",
        "\n",
        "The changed lines are followed by a sharp symbol (#)."
      ],
      "metadata": {
        "id": "GUxwBx0sQluq"
      }
    },
    {
      "cell_type": "code",
      "source": [
        "class SAGE(nn.Module):\n",
        "    def __init__(self, in_feats, hid_feats, out_feats):\n",
        "        super().__init__()\n",
        "        self.conv1 = dglnn.SAGEConv(\n",
        "            in_feats=in_feats, out_feats=hid_feats, aggregator_type='mean')\n",
        "        self.conv2 = dglnn.SAGEConv(\n",
        "            in_feats=hid_feats, out_feats=out_feats, aggregator_type='mean')\n",
        "\n",
        "    def forward(self, graph, inputs):\n",
        "        # Inputs are features of nodes.\n",
        "        h = self.conv1(graph, inputs)\n",
        "        h = torch.sigmoid(h) #\n",
        "        h = self.conv2(graph, h)\n",
        "        return h"
      ],
      "metadata": {
        "id": "FyHG8dqVcXqU"
      },
      "execution_count": 633,
      "outputs": []
    },
    {
      "cell_type": "code",
      "source": [
        "def evaluate(model, graph, features, labels, mask):\n",
        "    model.eval()\n",
        "    with torch.no_grad():\n",
        "        values = model(graph, features) #\n",
        "        values = torch.squeeze(values[mask]) #\n",
        "        labels = torch.squeeze(labels[mask]) #\n",
        "        print(\"Validation / test observed number:\", labels.tolist(), \"| predicted number:\", values.tolist()) #\n",
        "        mse = ((values - labels) ** 2).mean() #\n",
        "        return mse #"
      ],
      "metadata": {
        "id": "YOfrpwNnO8k3"
      },
      "execution_count": 634,
      "outputs": []
    },
    {
      "cell_type": "code",
      "source": [
        "model = SAGE(in_feats=n_features, hid_feats=100, out_feats=1)\n",
        "opt = torch.optim.Adam(model.parameters(), lr=0.001) #\n",
        "\n",
        "for epoch in range(50): #\n",
        "    print(\"Epoch:\", epoch+1)\n",
        "    model.train()\n",
        "    # Forward propagation by using all nodes\n",
        "    values = model(graph, node_features.float()) #\n",
        "    # Compute loss.\n",
        "    loss = ((values[train_mask] - node_labels[train_mask]) ** 2).mean() #\n",
        "    # Compute validation MSE.\n",
        "    mse = evaluate(model, graph, node_features.float(), node_labels, valid_mask) #\n",
        "    mse = mse.tolist() #\n",
        "    # Backward propagation\n",
        "    opt.zero_grad()\n",
        "    loss.backward()\n",
        "    opt.step()\n",
        "    print(\"Training loss: %.4f\" % loss.item(), \"| validation MSE: %.4f\" % mse) #\n",
        "    print()\n",
        "\n",
        "print(\"--------------------\")\n",
        "test_mse = evaluate(model, graph, node_features.float(), node_labels, test_mask) #\n",
        "test_mse = test_mse.tolist() #\n",
        "print(\"Test MSE: %.4f\" % test_mse) #"
      ],
      "metadata": {
        "colab": {
          "base_uri": "https://localhost:8080/"
        },
        "id": "-YeqpY__O_af",
        "outputId": "e0178c4b-5d5f-4c03-a368-854ca2b8bfff"
      },
      "execution_count": 641,
      "outputs": [
        {
          "output_type": "stream",
          "name": "stdout",
          "text": [
            "Epoch: 1\n",
            "Validation / test observed number: 0.874458909034729 | predicted number: 1.2338831424713135\n",
            "Training loss: 0.7277 | validation MSE: 0.1292\n",
            "\n",
            "Epoch: 2\n",
            "Validation / test observed number: 0.874458909034729 | predicted number: 1.0235838890075684\n",
            "Training loss: 0.4359 | validation MSE: 0.0222\n",
            "\n",
            "Epoch: 3\n",
            "Validation / test observed number: 0.874458909034729 | predicted number: 0.8176155090332031\n",
            "Training loss: 0.2316 | validation MSE: 0.0032\n",
            "\n",
            "Epoch: 4\n",
            "Validation / test observed number: 0.874458909034729 | predicted number: 0.6206695437431335\n",
            "Training loss: 0.1119 | validation MSE: 0.0644\n",
            "\n",
            "Epoch: 5\n",
            "Validation / test observed number: 0.874458909034729 | predicted number: 0.43984556198120117\n",
            "Training loss: 0.0674 | validation MSE: 0.1889\n",
            "\n",
            "Epoch: 6\n",
            "Validation / test observed number: 0.874458909034729 | predicted number: 0.2843765616416931\n",
            "Training loss: 0.0794 | validation MSE: 0.3482\n",
            "\n",
            "Epoch: 7\n",
            "Validation / test observed number: 0.874458909034729 | predicted number: 0.1635359525680542\n",
            "Training loss: 0.1214 | validation MSE: 0.5054\n",
            "\n",
            "Epoch: 8\n",
            "Validation / test observed number: 0.874458909034729 | predicted number: 0.08305913954973221\n",
            "Training loss: 0.1660 | validation MSE: 0.6263\n",
            "\n",
            "Epoch: 9\n",
            "Validation / test observed number: 0.874458909034729 | predicted number: 0.04303862154483795\n",
            "Training loss: 0.1941 | validation MSE: 0.6913\n",
            "\n",
            "Epoch: 10\n",
            "Validation / test observed number: 0.874458909034729 | predicted number: 0.03902580589056015\n",
            "Training loss: 0.1988 | validation MSE: 0.6979\n",
            "\n",
            "Epoch: 11\n",
            "Validation / test observed number: 0.874458909034729 | predicted number: 0.06451723724603653\n",
            "Training loss: 0.1830 | validation MSE: 0.6560\n",
            "\n",
            "Epoch: 12\n",
            "Validation / test observed number: 0.874458909034729 | predicted number: 0.11272212862968445\n",
            "Training loss: 0.1543 | validation MSE: 0.5802\n",
            "\n",
            "Epoch: 13\n",
            "Validation / test observed number: 0.874458909034729 | predicted number: 0.17724943161010742\n",
            "Training loss: 0.1216 | validation MSE: 0.4861\n",
            "\n",
            "Epoch: 14\n",
            "Validation / test observed number: 0.874458909034729 | predicted number: 0.25217404961586\n",
            "Training loss: 0.0924 | validation MSE: 0.3872\n",
            "\n",
            "Epoch: 15\n",
            "Validation / test observed number: 0.874458909034729 | predicted number: 0.33191177248954773\n",
            "Training loss: 0.0721 | validation MSE: 0.2944\n",
            "\n",
            "Epoch: 16\n",
            "Validation / test observed number: 0.874458909034729 | predicted number: 0.411129355430603\n",
            "Training loss: 0.0629 | validation MSE: 0.2147\n",
            "\n",
            "Epoch: 17\n",
            "Validation / test observed number: 0.874458909034729 | predicted number: 0.4848107099533081\n",
            "Training loss: 0.0643 | validation MSE: 0.1518\n",
            "\n",
            "Epoch: 18\n",
            "Validation / test observed number: 0.874458909034729 | predicted number: 0.5485007762908936\n",
            "Training loss: 0.0731 | validation MSE: 0.1062\n",
            "\n",
            "Epoch: 19\n",
            "Validation / test observed number: 0.874458909034729 | predicted number: 0.5986673831939697\n",
            "Training loss: 0.0847 | validation MSE: 0.0761\n",
            "\n",
            "Epoch: 20\n",
            "Validation / test observed number: 0.874458909034729 | predicted number: 0.633034884929657\n",
            "Training loss: 0.0947 | validation MSE: 0.0583\n",
            "\n",
            "Epoch: 21\n",
            "Validation / test observed number: 0.874458909034729 | predicted number: 0.6507460474967957\n",
            "Training loss: 0.1001 | validation MSE: 0.0500\n",
            "\n",
            "Epoch: 22\n",
            "Validation / test observed number: 0.874458909034729 | predicted number: 0.6523012518882751\n",
            "Training loss: 0.0995 | validation MSE: 0.0494\n",
            "\n",
            "Epoch: 23\n",
            "Validation / test observed number: 0.874458909034729 | predicted number: 0.6393288373947144\n",
            "Training loss: 0.0937 | validation MSE: 0.0553\n",
            "\n",
            "Epoch: 24\n",
            "Validation / test observed number: 0.874458909034729 | predicted number: 0.6142934560775757\n",
            "Training loss: 0.0847 | validation MSE: 0.0677\n",
            "\n",
            "Epoch: 25\n",
            "Validation / test observed number: 0.874458909034729 | predicted number: 0.5802188515663147\n",
            "Training loss: 0.0750 | validation MSE: 0.0866\n",
            "\n",
            "Epoch: 26\n",
            "Validation / test observed number: 0.874458909034729 | predicted number: 0.5404543280601501\n",
            "Training loss: 0.0669 | validation MSE: 0.1116\n",
            "\n",
            "Epoch: 27\n",
            "Validation / test observed number: 0.874458909034729 | predicted number: 0.49846863746643066\n",
            "Training loss: 0.0620 | validation MSE: 0.1414\n",
            "\n",
            "Epoch: 28\n",
            "Validation / test observed number: 0.874458909034729 | predicted number: 0.45764774084091187\n",
            "Training loss: 0.0607 | validation MSE: 0.1737\n",
            "\n",
            "Epoch: 29\n",
            "Validation / test observed number: 0.874458909034729 | predicted number: 0.4210813343524933\n",
            "Training loss: 0.0625 | validation MSE: 0.2056\n",
            "\n",
            "Epoch: 30\n",
            "Validation / test observed number: 0.874458909034729 | predicted number: 0.3913469612598419\n",
            "Training loss: 0.0661 | validation MSE: 0.2334\n",
            "\n",
            "Epoch: 31\n",
            "Validation / test observed number: 0.874458909034729 | predicted number: 0.3703216016292572\n",
            "Training loss: 0.0698 | validation MSE: 0.2542\n",
            "\n",
            "Epoch: 32\n",
            "Validation / test observed number: 0.874458909034729 | predicted number: 0.3590570092201233\n",
            "Training loss: 0.0723 | validation MSE: 0.2656\n",
            "\n",
            "Epoch: 33\n",
            "Validation / test observed number: 0.874458909034729 | predicted number: 0.35774314403533936\n",
            "Training loss: 0.0729 | validation MSE: 0.2670\n",
            "\n",
            "Epoch: 34\n",
            "Validation / test observed number: 0.874458909034729 | predicted number: 0.3657606840133667\n",
            "Training loss: 0.0714 | validation MSE: 0.2588\n",
            "\n",
            "Epoch: 35\n",
            "Validation / test observed number: 0.874458909034729 | predicted number: 0.38179707527160645\n",
            "Training loss: 0.0685 | validation MSE: 0.2427\n",
            "\n",
            "Epoch: 36\n",
            "Validation / test observed number: 0.874458909034729 | predicted number: 0.4040064215660095\n",
            "Training loss: 0.0651 | validation MSE: 0.2213\n",
            "\n",
            "Epoch: 37\n",
            "Validation / test observed number: 0.874458909034729 | predicted number: 0.4301871359348297\n",
            "Training loss: 0.0622 | validation MSE: 0.1974\n",
            "\n",
            "Epoch: 38\n",
            "Validation / test observed number: 0.874458909034729 | predicted number: 0.457968145608902\n",
            "Training loss: 0.0604 | validation MSE: 0.1735\n",
            "\n",
            "Epoch: 39\n",
            "Validation / test observed number: 0.874458909034729 | predicted number: 0.48500052094459534\n",
            "Training loss: 0.0599 | validation MSE: 0.1517\n",
            "\n",
            "Epoch: 40\n",
            "Validation / test observed number: 0.874458909034729 | predicted number: 0.5091427564620972\n",
            "Training loss: 0.0606 | validation MSE: 0.1335\n",
            "\n",
            "Epoch: 41\n",
            "Validation / test observed number: 0.874458909034729 | predicted number: 0.5286320447921753\n",
            "Training loss: 0.0619 | validation MSE: 0.1196\n",
            "\n",
            "Epoch: 42\n",
            "Validation / test observed number: 0.874458909034729 | predicted number: 0.5422198176383972\n",
            "Training loss: 0.0632 | validation MSE: 0.1104\n",
            "\n",
            "Epoch: 43\n",
            "Validation / test observed number: 0.874458909034729 | predicted number: 0.5492548942565918\n",
            "Training loss: 0.0639 | validation MSE: 0.1058\n",
            "\n",
            "Epoch: 44\n",
            "Validation / test observed number: 0.874458909034729 | predicted number: 0.5497076511383057\n",
            "Training loss: 0.0638 | validation MSE: 0.1055\n",
            "\n",
            "Epoch: 45\n",
            "Validation / test observed number: 0.874458909034729 | predicted number: 0.5441299080848694\n",
            "Training loss: 0.0630 | validation MSE: 0.1091\n",
            "\n",
            "Epoch: 46\n",
            "Validation / test observed number: 0.874458909034729 | predicted number: 0.5335654616355896\n",
            "Training loss: 0.0618 | validation MSE: 0.1162\n",
            "\n",
            "Epoch: 47\n",
            "Validation / test observed number: 0.874458909034729 | predicted number: 0.5194231867790222\n",
            "Training loss: 0.0605 | validation MSE: 0.1261\n",
            "\n",
            "Epoch: 48\n",
            "Validation / test observed number: 0.874458909034729 | predicted number: 0.5033271908760071\n",
            "Training loss: 0.0596 | validation MSE: 0.1377\n",
            "\n",
            "Epoch: 49\n",
            "Validation / test observed number: 0.874458909034729 | predicted number: 0.48695850372314453\n",
            "Training loss: 0.0592 | validation MSE: 0.1502\n",
            "\n",
            "Epoch: 50\n",
            "Validation / test observed number: 0.874458909034729 | predicted number: 0.4718986749649048\n",
            "Training loss: 0.0593 | validation MSE: 0.1621\n",
            "\n",
            "--------------------\n",
            "Validation / test observed number: [0.31307530403137207, 0.3630366325378418] | predicted number: [0.4487704932689667, 0.5024846792221069]\n",
            "Test MSE: 0.0189\n"
          ]
        }
      ]
    }
  ]
}