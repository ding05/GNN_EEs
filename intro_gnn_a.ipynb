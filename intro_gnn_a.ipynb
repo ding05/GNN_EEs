{
  "nbformat": 4,
  "nbformat_minor": 0,
  "metadata": {
    "colab": {
      "name": "Intro_to_GNN.ipynb",
      "provenance": [],
      "collapsed_sections": []
    },
    "kernelspec": {
      "name": "python3",
      "display_name": "Python 3"
    },
    "language_info": {
      "name": "python"
    },
    "accelerator": "GPU"
  },
  "cells": [
    {
      "cell_type": "markdown",
      "source": [
        "# **Introduction to GNN**\n",
        "\n",
        "by Ding"
      ],
      "metadata": {
        "id": "6LFh-AhUYZNF"
      }
    },
    {
      "cell_type": "markdown",
      "source": [
        "This notebook demonstrates node classification by graph neural network (GNN) with a small toy dataset.\n",
        "\n",
        "Reference: [DGL](https://docs.dgl.ai/en/0.6.x/guide/training-node.html); alternative reference: [UvA](https://uvadlc-notebooks.readthedocs.io/en/latest/tutorial_notebooks/tutorial7/GNN_overview.html)"
      ],
      "metadata": {
        "id": "GJuKPTf7Yhok"
      }
    },
    {
      "cell_type": "markdown",
      "source": [
        "## **1. Graph**\n",
        "\n",
        "**1.1. View a DGL Dataset**\n",
        "\n",
        "There are multiple GNN libraries. We use DGL in this notebook for its simplicity.\n",
        "\n",
        "Note: Install the DGL 0.7.2 version to avoid [a data importation error](https://github.com/dmlc/dgl/issues/3591).\n"
      ],
      "metadata": {
        "id": "BsZG-1nVY4lG"
      }
    },
    {
      "cell_type": "code",
      "source": [
        "!pip install dgl -f https://data.dgl.ai/wheels/repo.html\n",
        "\n",
        "import numpy as np\n",
        "import random\n",
        "\n",
        "import torch\n",
        "\n",
        "import dgl\n",
        "import dgl.nn as dglnn\n",
        "import dgl.data\n",
        "import torch.nn as nn\n",
        "import torch.nn.functional as F"
      ],
      "metadata": {
        "colab": {
          "base_uri": "https://localhost:8080/"
        },
        "id": "nIHrgwbVhLW1",
        "outputId": "0403eaf8-8842-46d8-ad0c-f69285e11478"
      },
      "execution_count": 322,
      "outputs": [
        {
          "output_type": "stream",
          "name": "stdout",
          "text": [
            "Looking in links: https://data.dgl.ai/wheels/repo.html\n",
            "Requirement already satisfied: dgl in /usr/local/lib/python3.7/dist-packages (0.7.2)\n",
            "Requirement already satisfied: networkx>=2.1 in /usr/local/lib/python3.7/dist-packages (from dgl) (2.6.3)\n",
            "Requirement already satisfied: scipy>=1.1.0 in /usr/local/lib/python3.7/dist-packages (from dgl) (1.4.1)\n",
            "Requirement already satisfied: requests>=2.19.0 in /usr/local/lib/python3.7/dist-packages (from dgl) (2.23.0)\n",
            "Requirement already satisfied: numpy>=1.14.0 in /usr/local/lib/python3.7/dist-packages (from dgl) (1.21.5)\n",
            "Requirement already satisfied: urllib3!=1.25.0,!=1.25.1,<1.26,>=1.21.1 in /usr/local/lib/python3.7/dist-packages (from requests>=2.19.0->dgl) (1.24.3)\n",
            "Requirement already satisfied: idna<3,>=2.5 in /usr/local/lib/python3.7/dist-packages (from requests>=2.19.0->dgl) (2.10)\n",
            "Requirement already satisfied: certifi>=2017.4.17 in /usr/local/lib/python3.7/dist-packages (from requests>=2.19.0->dgl) (2021.10.8)\n",
            "Requirement already satisfied: chardet<4,>=3.0.2 in /usr/local/lib/python3.7/dist-packages (from requests>=2.19.0->dgl) (3.0.4)\n"
          ]
        }
      ]
    },
    {
      "cell_type": "markdown",
      "source": [
        "Download and briefly view a DLG dataset: \"CiteseerGraphDataset.\""
      ],
      "metadata": {
        "id": "HszY_iVD2kCG"
      }
    },
    {
      "cell_type": "code",
      "source": [
        "print(\"Info:\")\n",
        "\n",
        "dataset = dgl.data.CiteseerGraphDataset()\n",
        "graph = dataset[0]\n",
        "\n",
        "print()\n",
        "print(\"Nodes:\")\n",
        "print(graph.ndata)\n",
        "\n",
        "print()\n",
        "print(\"Edges:\")\n",
        "print(graph.edata)"
      ],
      "metadata": {
        "colab": {
          "base_uri": "https://localhost:8080/"
        },
        "id": "eR_AbSzOhHgG",
        "outputId": "8bb32cf3-8f3d-4224-ccc9-22bf7f44f6ac"
      },
      "execution_count": 323,
      "outputs": [
        {
          "output_type": "stream",
          "name": "stdout",
          "text": [
            "Info:\n",
            "  NumNodes: 3327\n",
            "  NumEdges: 9228\n",
            "  NumFeats: 3703\n",
            "  NumClasses: 6\n",
            "  NumTrainingSamples: 120\n",
            "  NumValidationSamples: 500\n",
            "  NumTestSamples: 1000\n",
            "Done loading data from cached files.\n",
            "\n",
            "Nodes:\n",
            "{'feat': tensor([[0., 0., 0.,  ..., 0., 0., 0.],\n",
            "        [0., 0., 0.,  ..., 0., 0., 0.],\n",
            "        [0., 0., 0.,  ..., 0., 0., 0.],\n",
            "        ...,\n",
            "        [0., 0., 0.,  ..., 0., 0., 0.],\n",
            "        [0., 0., 0.,  ..., 0., 0., 0.],\n",
            "        [0., 0., 0.,  ..., 0., 0., 0.]]), 'label': tensor([1, 4, 1,  ..., 5, 3, 3]), 'test_mask': tensor([False, False, False,  ..., False, False, False]), 'train_mask': tensor([False,  True, False,  ..., False, False,  True]), 'val_mask': tensor([False, False, False,  ..., False, False, False])}\n",
            "\n",
            "Edges:\n",
            "{}\n"
          ]
        }
      ]
    },
    {
      "cell_type": "markdown",
      "source": [
        "**1.2. Graph Structure**\n",
        "\n",
        "Referring to \"CiteseerGraphDataset,\" first of all, generate a small toy dataset.\n",
        "\n",
        "Create a fully-connnected undirected graph structure with 10 nodes without assgining any value."
      ],
      "metadata": {
        "id": "U2uR9SkPYXMj"
      }
    },
    {
      "cell_type": "code",
      "source": [
        "def graph_structure():\n",
        "  u = []\n",
        "  v = []\n",
        "  for i in range(10):\n",
        "    for j in range(10):\n",
        "      if j == i:\n",
        "        pass\n",
        "      else:\n",
        "        u.append(i)\n",
        "        v.append(j)\n",
        "  return torch.tensor(u), torch.tensor(v)\n",
        "\n",
        "u, v = graph_structure()\n",
        "\n",
        "print(\"Direction (going from the nodes in the first list to the nodes in the second list):\")\n",
        "print(u)\n",
        "print(v)\n",
        "\n",
        "graph = dgl.graph((u, v))\n",
        "\n",
        "print()\n",
        "print(\"Graph:\")\n",
        "print(graph)"
      ],
      "metadata": {
        "colab": {
          "base_uri": "https://localhost:8080/"
        },
        "id": "-hZIofVGYXTT",
        "outputId": "cd5fb15e-2890-4593-cf40-e6498009bf19"
      },
      "execution_count": 324,
      "outputs": [
        {
          "output_type": "stream",
          "name": "stdout",
          "text": [
            "Direction (going from the nodes in the first list to the nodes in the second list):\n",
            "tensor([0, 0, 0, 0, 0, 0, 0, 0, 0, 1, 1, 1, 1, 1, 1, 1, 1, 1, 2, 2, 2, 2, 2, 2,\n",
            "        2, 2, 2, 3, 3, 3, 3, 3, 3, 3, 3, 3, 4, 4, 4, 4, 4, 4, 4, 4, 4, 5, 5, 5,\n",
            "        5, 5, 5, 5, 5, 5, 6, 6, 6, 6, 6, 6, 6, 6, 6, 7, 7, 7, 7, 7, 7, 7, 7, 7,\n",
            "        8, 8, 8, 8, 8, 8, 8, 8, 8, 9, 9, 9, 9, 9, 9, 9, 9, 9])\n",
            "tensor([1, 2, 3, 4, 5, 6, 7, 8, 9, 0, 2, 3, 4, 5, 6, 7, 8, 9, 0, 1, 3, 4, 5, 6,\n",
            "        7, 8, 9, 0, 1, 2, 4, 5, 6, 7, 8, 9, 0, 1, 2, 3, 5, 6, 7, 8, 9, 0, 1, 2,\n",
            "        3, 4, 6, 7, 8, 9, 0, 1, 2, 3, 4, 5, 7, 8, 9, 0, 1, 2, 3, 4, 5, 6, 8, 9,\n",
            "        0, 1, 2, 3, 4, 5, 6, 7, 9, 0, 1, 2, 3, 4, 5, 6, 7, 8])\n",
            "\n",
            "Graph:\n",
            "Graph(num_nodes=10, num_edges=90,\n",
            "      ndata_schemes={}\n",
            "      edata_schemes={})\n"
          ]
        }
      ]
    },
    {
      "cell_type": "markdown",
      "source": [
        "**1.2. Node Feature Tensor**\n",
        "\n",
        "Randomly generate two types of arrays: $a_1(x)=x$ and $a_2(x)=e^x$, where x is a random number between 0 and 1, with 5 arrays for each type. \n",
        "\n",
        "Create binary classes 0 and 1. the $a_1$ array is associated with Class 0, and the $a_2$ array is associated with Class 1."
      ],
      "metadata": {
        "id": "UPEyAYD33q2y"
      }
    },
    {
      "cell_type": "code",
      "source": [
        "def linear(x):\n",
        "  return x\n",
        "\n",
        "def exponential(x):\n",
        "  return np.exp(x)\n",
        "\n",
        "def node_feature_tensor():\n",
        "  node_feature = []\n",
        "  node_class = []\n",
        "  count = 0\n",
        "  while count < 10:\n",
        "    if count < 5:\n",
        "      node_feature.append(list([linear(i * random.uniform(0, 1)) for i in [1]*10]))\n",
        "      node_class.append(0)\n",
        "    else:\n",
        "      node_feature.append(list([exponential(i * random.uniform(0, 1)) for i in [1]*10]))\n",
        "      node_class.append(1)\n",
        "    count += 1\n",
        "  return torch.tensor(node_feature), torch.tensor(node_class)\n",
        "\n",
        "node_feature, node_class = node_feature_tensor()"
      ],
      "metadata": {
        "id": "BtvsVuxs-deQ"
      },
      "execution_count": 325,
      "outputs": []
    },
    {
      "cell_type": "code",
      "source": [
        "print(\"Node features:\")\n",
        "print(node_feature)\n",
        "print()\n",
        "print(\"Node classes:\")\n",
        "print(node_class)"
      ],
      "metadata": {
        "colab": {
          "base_uri": "https://localhost:8080/"
        },
        "id": "YbrOAl5KCvDx",
        "outputId": "86420899-75cb-4752-d9d5-f0c4ab283724"
      },
      "execution_count": 326,
      "outputs": [
        {
          "output_type": "stream",
          "name": "stdout",
          "text": [
            "Node features:\n",
            "tensor([[0.7171, 0.7255, 0.5956, 0.9396, 0.5620, 0.1758, 0.3125, 0.3078, 0.1667,\n",
            "         0.0720],\n",
            "        [0.1480, 0.1153, 0.9473, 0.1975, 0.0175, 0.8692, 0.7546, 0.8188, 0.0045,\n",
            "         0.2851],\n",
            "        [0.5950, 0.5688, 0.0431, 0.2810, 0.2482, 0.0115, 0.6057, 0.1884, 0.2258,\n",
            "         0.4166],\n",
            "        [0.8035, 0.2571, 0.9953, 0.7049, 0.8532, 0.8325, 0.3136, 0.7147, 0.8520,\n",
            "         0.2416],\n",
            "        [0.8864, 0.1110, 0.7614, 0.7331, 0.4187, 0.0793, 0.1704, 0.2820, 0.9244,\n",
            "         0.3892],\n",
            "        [1.6967, 2.5442, 2.6425, 2.3475, 2.1837, 1.9639, 1.0309, 1.2938, 2.6007,\n",
            "         2.1513],\n",
            "        [2.2136, 1.1768, 1.0717, 1.2251, 1.6281, 2.3502, 1.5088, 2.0296, 1.3124,\n",
            "         2.1445],\n",
            "        [1.1799, 1.6282, 1.1495, 2.5577, 1.4191, 1.1318, 1.0224, 1.6963, 1.2749,\n",
            "         2.0966],\n",
            "        [1.3572, 1.1667, 2.2294, 1.1892, 1.3655, 1.1390, 1.9053, 1.5518, 2.4234,\n",
            "         1.9327],\n",
            "        [1.1213, 1.7436, 1.6908, 1.7561, 1.1758, 1.0610, 1.9488, 1.7302, 2.0299,\n",
            "         1.3450]], dtype=torch.float64)\n",
            "\n",
            "Node classes:\n",
            "tensor([0, 0, 0, 0, 0, 1, 1, 1, 1, 1])\n"
          ]
        }
      ]
    },
    {
      "cell_type": "markdown",
      "source": [
        "Connect the node features and the node classes with the graph."
      ],
      "metadata": {
        "id": "_LQk6WoH668k"
      }
    },
    {
      "cell_type": "code",
      "source": [
        "graph.ndata[\"feat\"] = node_feature\n",
        "graph.ndata[\"label\"] = node_class"
      ],
      "metadata": {
        "id": "9CdAxiLjbbJ3"
      },
      "execution_count": 327,
      "outputs": []
    },
    {
      "cell_type": "markdown",
      "source": [
        "**1.3. Training, Validation and Test Nodes**\n",
        "\n",
        "Use 7 nodes for traning, 1 node for validation and 2 nodes for testing. Create the three corresponding mask tensors."
      ],
      "metadata": {
        "id": "etW3plQYRl1b"
      }
    },
    {
      "cell_type": "code",
      "source": [
        "def masks():\n",
        "  train = [True] * 10\n",
        "  val = [False] * 10\n",
        "  test = [False] * 10\n",
        "  # Randomly generate three numbers as indices between 0 and 9.\n",
        "  val_node, test_node_1, test_node_2 = random.sample(range(0, 10), 3)\n",
        "  # Using the random incides, assign \"True\" to the corresponding elements in the validation and test mask list.\n",
        "  train[val_node], train[test_node_1], train[test_node_2] = False, False, False\n",
        "  val[val_node] = True\n",
        "  test[test_node_1], test[test_node_2] = True, True\n",
        "  return torch.tensor(train), torch.tensor(val), torch.tensor(test)\n",
        "\n",
        "train_mask, val_mask, test_mask = masks()\n",
        "\n",
        "print(\"Training mask:\")\n",
        "print(train_mask)\n",
        "print()\n",
        "print(\"Validation mask:\")\n",
        "print(val_mask)\n",
        "print()\n",
        "print(\"Test mask:\")\n",
        "print(test_mask)"
      ],
      "metadata": {
        "colab": {
          "base_uri": "https://localhost:8080/"
        },
        "id": "t5PiZ35SRPwL",
        "outputId": "72212337-fa05-4622-f8ec-b598eb7e7805"
      },
      "execution_count": 328,
      "outputs": [
        {
          "output_type": "stream",
          "name": "stdout",
          "text": [
            "Training mask:\n",
            "tensor([ True, False,  True, False,  True,  True, False,  True,  True,  True])\n",
            "\n",
            "Validation mask:\n",
            "tensor([False, False, False, False, False, False,  True, False, False, False])\n",
            "\n",
            "Test mask:\n",
            "tensor([False,  True, False,  True, False, False, False, False, False, False])\n"
          ]
        }
      ]
    },
    {
      "cell_type": "markdown",
      "source": [
        "Connect the masks with the graph."
      ],
      "metadata": {
        "id": "BAuzEaab7JP3"
      }
    },
    {
      "cell_type": "code",
      "source": [
        "graph.ndata[\"train_mask\"] = train_mask\n",
        "graph.ndata[\"val_mask\"] = val_mask\n",
        "graph.ndata[\"test_mask\"] = test_mask"
      ],
      "metadata": {
        "id": "UGk7lV_6bm2J"
      },
      "execution_count": 329,
      "outputs": []
    },
    {
      "cell_type": "markdown",
      "source": [
        "**1.4. Edge Weight Tensor**\n",
        "\n",
        "Assign weights to the edges. Manually, assign a greater weight 0.8 to the edges between the nodes in the same class, and assign a smaller weight 0.3 otherwise."
      ],
      "metadata": {
        "id": "Vi-_IKE2QLnx"
      }
    },
    {
      "cell_type": "code",
      "source": [
        "def weights():\n",
        "  weights = []\n",
        "  class_0 = [0, 1, 2, 3, 4]\n",
        "  class_1 = [5, 6, 7, 8, 9]\n",
        "  for i in range(len(u)):\n",
        "    if (u[i] in class_0 and v[i] in class_0) or (u[i] in class_1 and v[i] in class_1):\n",
        "      weights.append(0.8)\n",
        "    else:\n",
        "      weights.append(0.3)\n",
        "  return torch.tensor(weights)\n",
        "\n",
        "\"\"\"\n",
        "# Try an identical weight tensor.\n",
        "def weights():\n",
        "  weights = []\n",
        "  class_0 = [0, 1, 2, 3, 4]\n",
        "  class_1 = [5, 6, 7, 8, 9]\n",
        "  for i in range(len(u)):\n",
        "      weights.append(1)\n",
        "  return torch.tensor(weights)\n",
        "\"\"\"\n",
        "\n",
        "w = weights()\n",
        "\n",
        "print(\"Edge weights:\")\n",
        "print(w)"
      ],
      "metadata": {
        "colab": {
          "base_uri": "https://localhost:8080/"
        },
        "id": "f0SFXI0Vd0TI",
        "outputId": "a8ff05dc-7d2e-401e-ebfd-b05bb7704415"
      },
      "execution_count": 330,
      "outputs": [
        {
          "output_type": "stream",
          "name": "stdout",
          "text": [
            "Edge weights:\n",
            "tensor([0.8000, 0.8000, 0.8000, 0.8000, 0.3000, 0.3000, 0.3000, 0.3000, 0.3000,\n",
            "        0.8000, 0.8000, 0.8000, 0.8000, 0.3000, 0.3000, 0.3000, 0.3000, 0.3000,\n",
            "        0.8000, 0.8000, 0.8000, 0.8000, 0.3000, 0.3000, 0.3000, 0.3000, 0.3000,\n",
            "        0.8000, 0.8000, 0.8000, 0.8000, 0.3000, 0.3000, 0.3000, 0.3000, 0.3000,\n",
            "        0.8000, 0.8000, 0.8000, 0.8000, 0.3000, 0.3000, 0.3000, 0.3000, 0.3000,\n",
            "        0.3000, 0.3000, 0.3000, 0.3000, 0.3000, 0.8000, 0.8000, 0.8000, 0.8000,\n",
            "        0.3000, 0.3000, 0.3000, 0.3000, 0.3000, 0.8000, 0.8000, 0.8000, 0.8000,\n",
            "        0.3000, 0.3000, 0.3000, 0.3000, 0.3000, 0.8000, 0.8000, 0.8000, 0.8000,\n",
            "        0.3000, 0.3000, 0.3000, 0.3000, 0.3000, 0.8000, 0.8000, 0.8000, 0.8000,\n",
            "        0.3000, 0.3000, 0.3000, 0.3000, 0.3000, 0.8000, 0.8000, 0.8000, 0.8000])\n"
          ]
        }
      ]
    },
    {
      "cell_type": "markdown",
      "source": [
        "Connect the edge weights with the graph."
      ],
      "metadata": {
        "id": "ho3O7vct7MEl"
      }
    },
    {
      "cell_type": "code",
      "source": [
        "graph.edata['w'] = w"
      ],
      "metadata": {
        "id": "7Wlgc3tAfPYT"
      },
      "execution_count": 331,
      "outputs": []
    },
    {
      "cell_type": "markdown",
      "source": [
        "Look at the graph we generated."
      ],
      "metadata": {
        "id": "VbtrW4TqfUCi"
      }
    },
    {
      "cell_type": "code",
      "source": [
        "print(graph)"
      ],
      "metadata": {
        "colab": {
          "base_uri": "https://localhost:8080/"
        },
        "id": "4HbV3xAnfXdM",
        "outputId": "38741b87-8fbf-4126-b2ec-fe4aa59b4127"
      },
      "execution_count": 332,
      "outputs": [
        {
          "output_type": "stream",
          "name": "stdout",
          "text": [
            "Graph(num_nodes=10, num_edges=90,\n",
            "      ndata_schemes={'feat': Scheme(shape=(10,), dtype=torch.float64), 'label': Scheme(shape=(), dtype=torch.int64), 'train_mask': Scheme(shape=(), dtype=torch.bool), 'val_mask': Scheme(shape=(), dtype=torch.bool), 'test_mask': Scheme(shape=(), dtype=torch.bool)}\n",
            "      edata_schemes={'w': Scheme(shape=(), dtype=torch.float32)})\n"
          ]
        }
      ]
    },
    {
      "cell_type": "markdown",
      "source": [
        "![Weights Temp.png](data:image/png;base64,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)"
      ],
      "metadata": {
        "id": "ZMQ5viDVbdv7"
      }
    },
    {
      "cell_type": "markdown",
      "source": [
        "# **2. GNN**\n",
        "\n",
        "**2.1. Set up a GNN**\n",
        "\n",
        "Contruct a two-layer GNN model."
      ],
      "metadata": {
        "id": "IqH8sQS6cCno"
      }
    },
    {
      "cell_type": "code",
      "source": [
        "class SAGE(nn.Module):\n",
        "    def __init__(self, in_feats, hid_feats, out_feats):\n",
        "        super().__init__()\n",
        "        self.conv1 = dglnn.SAGEConv(\n",
        "            in_feats=in_feats, out_feats=hid_feats, aggregator_type='mean')\n",
        "        self.conv2 = dglnn.SAGEConv(\n",
        "            in_feats=hid_feats, out_feats=out_feats, aggregator_type='mean')\n",
        "\n",
        "    def forward(self, graph, inputs):\n",
        "        # Inputs are features of nodes.\n",
        "        h = self.conv1(graph, inputs)\n",
        "        h = torch.tanh(h)\n",
        "        h = self.conv2(graph, h)\n",
        "        return h"
      ],
      "metadata": {
        "id": "Bedl6FJScCC_"
      },
      "execution_count": 333,
      "outputs": []
    },
    {
      "cell_type": "markdown",
      "source": [
        "Load the variables from the graph."
      ],
      "metadata": {
        "id": "EPVvKYUQM13_"
      }
    },
    {
      "cell_type": "code",
      "source": [
        "node_features = graph.ndata['feat']\n",
        "node_labels = graph.ndata['label']\n",
        "train_mask = graph.ndata['train_mask']\n",
        "valid_mask = graph.ndata['val_mask']\n",
        "test_mask = graph.ndata['test_mask']\n",
        "n_features = node_features.shape[1]\n",
        "n_labels = int(node_labels.max().item() + 1)"
      ],
      "metadata": {
        "id": "1wD8Dewa-zbr"
      },
      "execution_count": 334,
      "outputs": []
    },
    {
      "cell_type": "markdown",
      "source": [
        "**2.2. Node Classification**\n",
        "\n",
        "Define an evaluation function."
      ],
      "metadata": {
        "id": "SOzDTc8DNAdK"
      }
    },
    {
      "cell_type": "code",
      "source": [
        "def evaluate(model, graph, features, labels, mask):\n",
        "    model.eval()\n",
        "    with torch.no_grad():\n",
        "        logits = model(graph, features)\n",
        "        logits = logits[mask]\n",
        "        labels = labels[mask]\n",
        "        _, indices = torch.max(logits, dim=1)\n",
        "        print(\"Validation / test observed class:\", labels.tolist(), \"| predicted class:\", indices.tolist())\n",
        "        correct = torch.sum(indices == labels)\n",
        "        return correct.item() * 1.0 / len(labels)"
      ],
      "metadata": {
        "id": "qvxI6gRV-7Pb"
      },
      "execution_count": 335,
      "outputs": []
    },
    {
      "cell_type": "markdown",
      "source": [
        "Train, validate and test the GNN model for node classification.\n",
        "\n",
        "Note: Add .float() after node_features to avoid [a runtime error](https://stackoverflow.com/questions/66074684/runtimeerror-expected-scalar-type-double-but-found-float-in-pytorch-cnn-train)."
      ],
      "metadata": {
        "id": "HZJhs-jNCoYJ"
      }
    },
    {
      "cell_type": "code",
      "source": [
        "model = SAGE(in_feats=n_features, hid_feats=100, out_feats=n_labels)\n",
        "opt = torch.optim.Adam(model.parameters())\n",
        "\n",
        "for epoch in range(30):\n",
        "    print(\"Epoch:\", epoch+1)\n",
        "    model.train()\n",
        "    # Forward propagation by using all nodes\n",
        "    logits = model(graph, node_features.float())\n",
        "    # Compute loss.\n",
        "    loss = F.cross_entropy(logits[train_mask], node_labels[train_mask])\n",
        "    # Compute validation accuracy.\n",
        "    acc = evaluate(model, graph, node_features.float(), node_labels, valid_mask)\n",
        "    # Backward propagation\n",
        "    opt.zero_grad()\n",
        "    loss.backward()\n",
        "    opt.step()\n",
        "    print(\"Training loss: %.4f\" % loss.item(), \"| validation accuracy:\", acc)\n",
        "    print()\n",
        "\n",
        "print(\"--------------------\")\n",
        "test_acc = evaluate(model, graph, node_features.float(), node_labels, test_mask)\n",
        "print(\"Test accuracy: \", test_acc)"
      ],
      "metadata": {
        "colab": {
          "base_uri": "https://localhost:8080/"
        },
        "id": "YWrRGlx_-9Gl",
        "outputId": "0eac9ba5-2f65-42dc-bf93-47e0ba3fa408"
      },
      "execution_count": 336,
      "outputs": [
        {
          "output_type": "stream",
          "name": "stdout",
          "text": [
            "Epoch: 1\n",
            "Validation / test observed class: [1] | predicted class: [0]\n",
            "Training loss: 1.7561 | validation accuracy: 0.0\n",
            "\n",
            "Epoch: 2\n",
            "Validation / test observed class: [1] | predicted class: [0]\n",
            "Training loss: 1.4341 | validation accuracy: 0.0\n",
            "\n",
            "Epoch: 3\n",
            "Validation / test observed class: [1] | predicted class: [0]\n",
            "Training loss: 1.1433 | validation accuracy: 0.0\n",
            "\n",
            "Epoch: 4\n",
            "Validation / test observed class: [1] | predicted class: [0]\n",
            "Training loss: 0.8998 | validation accuracy: 0.0\n",
            "\n",
            "Epoch: 5\n",
            "Validation / test observed class: [1] | predicted class: [1]\n",
            "Training loss: 0.7196 | validation accuracy: 1.0\n",
            "\n",
            "Epoch: 6\n",
            "Validation / test observed class: [1] | predicted class: [1]\n",
            "Training loss: 0.6097 | validation accuracy: 1.0\n",
            "\n",
            "Epoch: 7\n",
            "Validation / test observed class: [1] | predicted class: [1]\n",
            "Training loss: 0.5596 | validation accuracy: 1.0\n",
            "\n",
            "Epoch: 8\n",
            "Validation / test observed class: [1] | predicted class: [1]\n",
            "Training loss: 0.5460 | validation accuracy: 1.0\n",
            "\n",
            "Epoch: 9\n",
            "Validation / test observed class: [1] | predicted class: [1]\n",
            "Training loss: 0.5448 | validation accuracy: 1.0\n",
            "\n",
            "Epoch: 10\n",
            "Validation / test observed class: [1] | predicted class: [1]\n",
            "Training loss: 0.5404 | validation accuracy: 1.0\n",
            "\n",
            "Epoch: 11\n",
            "Validation / test observed class: [1] | predicted class: [1]\n",
            "Training loss: 0.5257 | validation accuracy: 1.0\n",
            "\n",
            "Epoch: 12\n",
            "Validation / test observed class: [1] | predicted class: [1]\n",
            "Training loss: 0.4992 | validation accuracy: 1.0\n",
            "\n",
            "Epoch: 13\n",
            "Validation / test observed class: [1] | predicted class: [1]\n",
            "Training loss: 0.4627 | validation accuracy: 1.0\n",
            "\n",
            "Epoch: 14\n",
            "Validation / test observed class: [1] | predicted class: [1]\n",
            "Training loss: 0.4196 | validation accuracy: 1.0\n",
            "\n",
            "Epoch: 15\n",
            "Validation / test observed class: [1] | predicted class: [1]\n",
            "Training loss: 0.3736 | validation accuracy: 1.0\n",
            "\n",
            "Epoch: 16\n",
            "Validation / test observed class: [1] | predicted class: [1]\n",
            "Training loss: 0.3285 | validation accuracy: 1.0\n",
            "\n",
            "Epoch: 17\n",
            "Validation / test observed class: [1] | predicted class: [1]\n",
            "Training loss: 0.2873 | validation accuracy: 1.0\n",
            "\n",
            "Epoch: 18\n",
            "Validation / test observed class: [1] | predicted class: [1]\n",
            "Training loss: 0.2519 | validation accuracy: 1.0\n",
            "\n",
            "Epoch: 19\n",
            "Validation / test observed class: [1] | predicted class: [1]\n",
            "Training loss: 0.2233 | validation accuracy: 1.0\n",
            "\n",
            "Epoch: 20\n",
            "Validation / test observed class: [1] | predicted class: [1]\n",
            "Training loss: 0.2013 | validation accuracy: 1.0\n",
            "\n",
            "Epoch: 21\n",
            "Validation / test observed class: [1] | predicted class: [1]\n",
            "Training loss: 0.1850 | validation accuracy: 1.0\n",
            "\n",
            "Epoch: 22\n",
            "Validation / test observed class: [1] | predicted class: [1]\n",
            "Training loss: 0.1732 | validation accuracy: 1.0\n",
            "\n",
            "Epoch: 23\n",
            "Validation / test observed class: [1] | predicted class: [1]\n",
            "Training loss: 0.1646 | validation accuracy: 1.0\n",
            "\n",
            "Epoch: 24\n",
            "Validation / test observed class: [1] | predicted class: [1]\n",
            "Training loss: 0.1578 | validation accuracy: 1.0\n",
            "\n",
            "Epoch: 25\n",
            "Validation / test observed class: [1] | predicted class: [1]\n",
            "Training loss: 0.1519 | validation accuracy: 1.0\n",
            "\n",
            "Epoch: 26\n",
            "Validation / test observed class: [1] | predicted class: [1]\n",
            "Training loss: 0.1462 | validation accuracy: 1.0\n",
            "\n",
            "Epoch: 27\n",
            "Validation / test observed class: [1] | predicted class: [1]\n",
            "Training loss: 0.1401 | validation accuracy: 1.0\n",
            "\n",
            "Epoch: 28\n",
            "Validation / test observed class: [1] | predicted class: [1]\n",
            "Training loss: 0.1337 | validation accuracy: 1.0\n",
            "\n",
            "Epoch: 29\n",
            "Validation / test observed class: [1] | predicted class: [1]\n",
            "Training loss: 0.1267 | validation accuracy: 1.0\n",
            "\n",
            "Epoch: 30\n",
            "Validation / test observed class: [1] | predicted class: [1]\n",
            "Training loss: 0.1195 | validation accuracy: 1.0\n",
            "\n",
            "--------------------\n",
            "Validation / test observed class: [0, 0] | predicted class: [0, 0]\n",
            "Test accuracy:  1.0\n"
          ]
        }
      ]
    },
    {
      "cell_type": "markdown",
      "source": [
        "**2.3. Node Regression**\n",
        "\n"
      ],
      "metadata": {
        "id": "8THfFfAbOxJq"
      }
    },
    {
      "cell_type": "markdown",
      "source": [
        "We need to change the graph. Instead of assigning a class to a node, assign a ground truth number to every node.\n",
        "\n",
        "Generate some random numbers for the 10 nodes."
      ],
      "metadata": {
        "id": "MvS27m-BQmgJ"
      }
    },
    {
      "cell_type": "code",
      "source": [
        "def node_ground_truth_number():\n",
        "  node_number = []\n",
        "  count = 0\n",
        "  while count < 10:\n",
        "    if count < 5:\n",
        "      node_number.append(random.uniform(0.1, 0.4))\n",
        "    else:\n",
        "      node_number.append(random.uniform(0.6, 0.9))\n",
        "    count += 1\n",
        "  return torch.tensor(node_number)\n",
        "\n",
        "node_number = node_ground_truth_number()\n",
        "\n",
        "graph.ndata['label'] = node_number"
      ],
      "metadata": {
        "id": "_rUvyPP7Q1Zp"
      },
      "execution_count": 337,
      "outputs": []
    },
    {
      "cell_type": "code",
      "source": [
        "node_labels = graph.ndata['label']"
      ],
      "metadata": {
        "id": "6FOjX4DKSea7"
      },
      "execution_count": 338,
      "outputs": []
    },
    {
      "cell_type": "markdown",
      "source": [
        "Slightly modify the code in 2.2 and convert the task into a regression task.\n",
        "\n",
        "The changed lines are followed by a sharp symbol (#)."
      ],
      "metadata": {
        "id": "GUxwBx0sQluq"
      }
    },
    {
      "cell_type": "code",
      "source": [
        "class SAGE(nn.Module):\n",
        "    def __init__(self, in_feats, hid_feats, out_feats):\n",
        "        super().__init__()\n",
        "        self.conv1 = dglnn.SAGEConv(\n",
        "            in_feats=in_feats, out_feats=hid_feats, aggregator_type='mean')\n",
        "        self.conv2 = dglnn.SAGEConv(\n",
        "            in_feats=hid_feats, out_feats=out_feats, aggregator_type='mean')\n",
        "\n",
        "    def forward(self, graph, inputs):\n",
        "        # Inputs are features of nodes.\n",
        "        h = self.conv1(graph, inputs)\n",
        "        h = torch.sigmoid(h) #\n",
        "        h = self.conv2(graph, h)\n",
        "        return h"
      ],
      "metadata": {
        "id": "FyHG8dqVcXqU"
      },
      "execution_count": 339,
      "outputs": []
    },
    {
      "cell_type": "code",
      "source": [
        "def evaluate(model, graph, features, labels, mask):\n",
        "    model.eval()\n",
        "    with torch.no_grad():\n",
        "        values = model(graph, features) #\n",
        "        values = torch.squeeze(values[mask]) #\n",
        "        labels = torch.squeeze(labels[mask]) #\n",
        "        print(\"Validation / test observed number:\", labels.tolist(), \"| predicted number:\", values.tolist()) #\n",
        "        mse = ((values - labels) ** 2).mean() #\n",
        "        return mse #"
      ],
      "metadata": {
        "id": "YOfrpwNnO8k3"
      },
      "execution_count": 340,
      "outputs": []
    },
    {
      "cell_type": "code",
      "source": [
        "model = SAGE(in_feats=n_features, hid_feats=100, out_feats=1)\n",
        "opt = torch.optim.Adam(model.parameters(), lr=0.001) #\n",
        "\n",
        "for epoch in range(50): #\n",
        "    print(\"Epoch:\", epoch+1)\n",
        "    model.train()\n",
        "    # Forward propagation by using all nodes\n",
        "    values = model(graph, node_features.float()) #\n",
        "    # Compute loss.\n",
        "    loss = ((values[train_mask] - node_labels[train_mask]) ** 2).mean() #\n",
        "    # Compute validation MSE.\n",
        "    mse = evaluate(model, graph, node_features.float(), node_labels, valid_mask) #\n",
        "    mse = mse.tolist() #\n",
        "    # Backward propagation\n",
        "    opt.zero_grad()\n",
        "    loss.backward()\n",
        "    opt.step()\n",
        "    print(\"Training loss: %.4f\" % loss.item(), \"| validation MSE: %.4f\" % mse) #\n",
        "    print()\n",
        "\n",
        "print(\"--------------------\")\n",
        "test_mse = evaluate(model, graph, node_features.float(), node_labels, test_mask) #\n",
        "test_mse = test_mse.tolist() #\n",
        "print(\"Test MSE: %.4f\" % test_mse) #"
      ],
      "metadata": {
        "colab": {
          "base_uri": "https://localhost:8080/"
        },
        "id": "-YeqpY__O_af",
        "outputId": "7bdcd382-ae73-4436-d78c-ea39334f16a8"
      },
      "execution_count": 341,
      "outputs": [
        {
          "output_type": "stream",
          "name": "stdout",
          "text": [
            "Epoch: 1\n",
            "Validation / test observed number: 0.6563700437545776 | predicted number: -0.0184294655919075\n",
            "Training loss: 0.4320 | validation MSE: 0.4554\n",
            "\n",
            "Epoch: 2\n",
            "Validation / test observed number: 0.6563700437545776 | predicted number: 0.19060298800468445\n",
            "Training loss: 0.2254 | validation MSE: 0.2169\n",
            "\n",
            "Epoch: 3\n",
            "Validation / test observed number: 0.6563700437545776 | predicted number: 0.3929433822631836\n",
            "Training loss: 0.1076 | validation MSE: 0.0694\n",
            "\n",
            "Epoch: 4\n",
            "Validation / test observed number: 0.6563700437545776 | predicted number: 0.5780694484710693\n",
            "Training loss: 0.0707 | validation MSE: 0.0061\n",
            "\n",
            "Epoch: 5\n",
            "Validation / test observed number: 0.6563700437545776 | predicted number: 0.7298583984375\n",
            "Training loss: 0.0914 | validation MSE: 0.0054\n",
            "\n",
            "Epoch: 6\n",
            "Validation / test observed number: 0.6563700437545776 | predicted number: 0.8325077295303345\n",
            "Training loss: 0.1321 | validation MSE: 0.0310\n",
            "\n",
            "Epoch: 7\n",
            "Validation / test observed number: 0.6563700437545776 | predicted number: 0.8810680508613586\n",
            "Training loss: 0.1597 | validation MSE: 0.0505\n",
            "\n",
            "Epoch: 8\n",
            "Validation / test observed number: 0.6563700437545776 | predicted number: 0.8824339509010315\n",
            "Training loss: 0.1618 | validation MSE: 0.0511\n",
            "\n",
            "Epoch: 9\n",
            "Validation / test observed number: 0.6563700437545776 | predicted number: 0.8479644060134888\n",
            "Training loss: 0.1433 | validation MSE: 0.0367\n",
            "\n",
            "Epoch: 10\n",
            "Validation / test observed number: 0.6563700437545776 | predicted number: 0.7886043190956116\n",
            "Training loss: 0.1154 | validation MSE: 0.0175\n",
            "\n",
            "Epoch: 11\n",
            "Validation / test observed number: 0.6563700437545776 | predicted number: 0.7138797640800476\n",
            "Training loss: 0.0890 | validation MSE: 0.0033\n",
            "\n",
            "Epoch: 12\n",
            "Validation / test observed number: 0.6563700437545776 | predicted number: 0.6323188543319702\n",
            "Training loss: 0.0718 | validation MSE: 0.0006\n",
            "\n",
            "Epoch: 13\n",
            "Validation / test observed number: 0.6563700437545776 | predicted number: 0.5519054532051086\n",
            "Training loss: 0.0669 | validation MSE: 0.0109\n",
            "\n",
            "Epoch: 14\n",
            "Validation / test observed number: 0.6563700437545776 | predicted number: 0.48005011677742004\n",
            "Training loss: 0.0724 | validation MSE: 0.0311\n",
            "\n",
            "Epoch: 15\n",
            "Validation / test observed number: 0.6563700437545776 | predicted number: 0.4229887127876282\n",
            "Training loss: 0.0832 | validation MSE: 0.0545\n",
            "\n",
            "Epoch: 16\n",
            "Validation / test observed number: 0.6563700437545776 | predicted number: 0.3849234879016876\n",
            "Training loss: 0.0933 | validation MSE: 0.0737\n",
            "\n",
            "Epoch: 17\n",
            "Validation / test observed number: 0.6563700437545776 | predicted number: 0.367484986782074\n",
            "Training loss: 0.0981 | validation MSE: 0.0835\n",
            "\n",
            "Epoch: 18\n",
            "Validation / test observed number: 0.6563700437545776 | predicted number: 0.3698507249355316\n",
            "Training loss: 0.0961 | validation MSE: 0.0821\n",
            "\n",
            "Epoch: 19\n",
            "Validation / test observed number: 0.6563700437545776 | predicted number: 0.3893285393714905\n",
            "Training loss: 0.0888 | validation MSE: 0.0713\n",
            "\n",
            "Epoch: 20\n",
            "Validation / test observed number: 0.6563700437545776 | predicted number: 0.4220150113105774\n",
            "Training loss: 0.0791 | validation MSE: 0.0549\n",
            "\n",
            "Epoch: 21\n",
            "Validation / test observed number: 0.6563700437545776 | predicted number: 0.46330615878105164\n",
            "Training loss: 0.0706 | validation MSE: 0.0373\n",
            "\n",
            "Epoch: 22\n",
            "Validation / test observed number: 0.6563700437545776 | predicted number: 0.5082628130912781\n",
            "Training loss: 0.0656 | validation MSE: 0.0219\n",
            "\n",
            "Epoch: 23\n",
            "Validation / test observed number: 0.6563700437545776 | predicted number: 0.5519483685493469\n",
            "Training loss: 0.0650 | validation MSE: 0.0109\n",
            "\n",
            "Epoch: 24\n",
            "Validation / test observed number: 0.6563700437545776 | predicted number: 0.5898261666297913\n",
            "Training loss: 0.0679 | validation MSE: 0.0044\n",
            "\n",
            "Epoch: 25\n",
            "Validation / test observed number: 0.6563700437545776 | predicted number: 0.6182172894477844\n",
            "Training loss: 0.0722 | validation MSE: 0.0015\n",
            "\n",
            "Epoch: 26\n",
            "Validation / test observed number: 0.6563700437545776 | predicted number: 0.6347101330757141\n",
            "Training loss: 0.0756 | validation MSE: 0.0005\n",
            "\n",
            "Epoch: 27\n",
            "Validation / test observed number: 0.6563700437545776 | predicted number: 0.6383879780769348\n",
            "Training loss: 0.0767 | validation MSE: 0.0003\n",
            "\n",
            "Epoch: 28\n",
            "Validation / test observed number: 0.6563700437545776 | predicted number: 0.6298079490661621\n",
            "Training loss: 0.0752 | validation MSE: 0.0007\n",
            "\n",
            "Epoch: 29\n",
            "Validation / test observed number: 0.6563700437545776 | predicted number: 0.6107865571975708\n",
            "Training loss: 0.0718 | validation MSE: 0.0021\n",
            "\n",
            "Epoch: 30\n",
            "Validation / test observed number: 0.6563700437545776 | predicted number: 0.584078848361969\n",
            "Training loss: 0.0680 | validation MSE: 0.0052\n",
            "\n",
            "Epoch: 31\n",
            "Validation / test observed number: 0.6563700437545776 | predicted number: 0.5530319809913635\n",
            "Training loss: 0.0652 | validation MSE: 0.0107\n",
            "\n",
            "Epoch: 32\n",
            "Validation / test observed number: 0.6563700437545776 | predicted number: 0.5212280750274658\n",
            "Training loss: 0.0642 | validation MSE: 0.0183\n",
            "\n",
            "Epoch: 33\n",
            "Validation / test observed number: 0.6563700437545776 | predicted number: 0.49211451411247253\n",
            "Training loss: 0.0648 | validation MSE: 0.0270\n",
            "\n",
            "Epoch: 34\n",
            "Validation / test observed number: 0.6563700437545776 | predicted number: 0.4686393737792969\n",
            "Training loss: 0.0665 | validation MSE: 0.0352\n",
            "\n",
            "Epoch: 35\n",
            "Validation / test observed number: 0.6563700437545776 | predicted number: 0.4529280364513397\n",
            "Training loss: 0.0681 | validation MSE: 0.0414\n",
            "\n",
            "Epoch: 36\n",
            "Validation / test observed number: 0.6563700437545776 | predicted number: 0.4460686147212982\n",
            "Training loss: 0.0689 | validation MSE: 0.0442\n",
            "\n",
            "Epoch: 37\n",
            "Validation / test observed number: 0.6563700437545776 | predicted number: 0.4480462074279785\n",
            "Training loss: 0.0684 | validation MSE: 0.0434\n",
            "\n",
            "Epoch: 38\n",
            "Validation / test observed number: 0.6563700437545776 | predicted number: 0.45782670378685\n",
            "Training loss: 0.0671 | validation MSE: 0.0394\n",
            "\n",
            "Epoch: 39\n",
            "Validation / test observed number: 0.6563700437545776 | predicted number: 0.473556250333786\n",
            "Training loss: 0.0655 | validation MSE: 0.0334\n",
            "\n",
            "Epoch: 40\n",
            "Validation / test observed number: 0.6563700437545776 | predicted number: 0.4928286671638489\n",
            "Training loss: 0.0642 | validation MSE: 0.0267\n",
            "\n",
            "Epoch: 41\n",
            "Validation / test observed number: 0.6563700437545776 | predicted number: 0.5129950642585754\n",
            "Training loss: 0.0637 | validation MSE: 0.0206\n",
            "\n",
            "Epoch: 42\n",
            "Validation / test observed number: 0.6563700437545776 | predicted number: 0.5314854383468628\n",
            "Training loss: 0.0640 | validation MSE: 0.0156\n",
            "\n",
            "Epoch: 43\n",
            "Validation / test observed number: 0.6563700437545776 | predicted number: 0.5461139678955078\n",
            "Training loss: 0.0647 | validation MSE: 0.0122\n",
            "\n",
            "Epoch: 44\n",
            "Validation / test observed number: 0.6563700437545776 | predicted number: 0.5553342700004578\n",
            "Training loss: 0.0653 | validation MSE: 0.0102\n",
            "\n",
            "Epoch: 45\n",
            "Validation / test observed number: 0.6563700437545776 | predicted number: 0.5583986639976501\n",
            "Training loss: 0.0655 | validation MSE: 0.0096\n",
            "\n",
            "Epoch: 46\n",
            "Validation / test observed number: 0.6563700437545776 | predicted number: 0.5554044842720032\n",
            "Training loss: 0.0652 | validation MSE: 0.0102\n",
            "\n",
            "Epoch: 47\n",
            "Validation / test observed number: 0.6563700437545776 | predicted number: 0.5472225546836853\n",
            "Training loss: 0.0645 | validation MSE: 0.0119\n",
            "\n",
            "Epoch: 48\n",
            "Validation / test observed number: 0.6563700437545776 | predicted number: 0.5353304147720337\n",
            "Training loss: 0.0638 | validation MSE: 0.0147\n",
            "\n",
            "Epoch: 49\n",
            "Validation / test observed number: 0.6563700437545776 | predicted number: 0.521581768989563\n",
            "Training loss: 0.0633 | validation MSE: 0.0182\n",
            "\n",
            "Epoch: 50\n",
            "Validation / test observed number: 0.6563700437545776 | predicted number: 0.5079407691955566\n",
            "Training loss: 0.0632 | validation MSE: 0.0220\n",
            "\n",
            "--------------------\n",
            "Validation / test observed number: [0.29430481791496277, 0.2967448830604553] | predicted number: [0.4968383014202118, 0.4904946982860565]\n",
            "Test MSE: 0.0393\n"
          ]
        }
      ]
    }
  ]
}