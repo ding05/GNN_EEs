{
  "nbformat": 4,
  "nbformat_minor": 0,
  "metadata": {
    "colab": {
      "name": "Intro_to_GNN.ipynb",
      "provenance": []
    },
    "kernelspec": {
      "name": "python3",
      "display_name": "Python 3"
    },
    "language_info": {
      "name": "python"
    },
    "accelerator": "GPU"
  },
  "cells": [
    {
      "cell_type": "markdown",
      "source": [
        "# **Introduction to GNN**\n",
        "\n",
        "by Ding"
      ],
      "metadata": {
        "id": "6LFh-AhUYZNF"
      }
    },
    {
      "cell_type": "markdown",
      "source": [
        "This notebook demonstrates node classification by graph neural network (GNN) with a small toy dataset.\n",
        "\n",
        "Reference: [DGL](https://docs.dgl.ai/en/0.6.x/guide/training-node.html); alternative reference: [UvA](https://uvadlc-notebooks.readthedocs.io/en/latest/tutorial_notebooks/tutorial7/GNN_overview.html)"
      ],
      "metadata": {
        "id": "GJuKPTf7Yhok"
      }
    },
    {
      "cell_type": "markdown",
      "source": [
        "## **1. Graph**\n",
        "\n",
        "**1.1. View a DGL Dataset**\n",
        "\n",
        "There are multiple GNN libraries. We use DGL in this notebook for its simplicity.\n",
        "\n",
        "Note: Install the DGL 0.7.2 version to avoid [a data importation error](https://github.com/dmlc/dgl/issues/3591).\n"
      ],
      "metadata": {
        "id": "BsZG-1nVY4lG"
      }
    },
    {
      "cell_type": "code",
      "source": [
        "!pip install dgl -f https://data.dgl.ai/wheels/repo.html\n",
        "\n",
        "import numpy as np\n",
        "import random\n",
        "\n",
        "import torch\n",
        "\n",
        "import dgl\n",
        "import dgl.nn as dglnn\n",
        "import dgl.data\n",
        "import torch.nn as nn\n",
        "import torch.nn.functional as F"
      ],
      "metadata": {
        "colab": {
          "base_uri": "https://localhost:8080/"
        },
        "id": "nIHrgwbVhLW1",
        "outputId": "c9ecdbd9-085a-4c2f-d731-0ca41d6a3b32"
      },
      "execution_count": null,
      "outputs": [
        {
          "output_type": "stream",
          "name": "stdout",
          "text": [
            "Looking in links: https://data.dgl.ai/wheels/repo.html\n",
            "Requirement already satisfied: dgl in /usr/local/lib/python3.7/dist-packages (0.7.2)\n",
            "Requirement already satisfied: networkx>=2.1 in /usr/local/lib/python3.7/dist-packages (from dgl) (2.6.3)\n",
            "Requirement already satisfied: scipy>=1.1.0 in /usr/local/lib/python3.7/dist-packages (from dgl) (1.4.1)\n",
            "Requirement already satisfied: requests>=2.19.0 in /usr/local/lib/python3.7/dist-packages (from dgl) (2.23.0)\n",
            "Requirement already satisfied: numpy>=1.14.0 in /usr/local/lib/python3.7/dist-packages (from dgl) (1.19.5)\n",
            "Requirement already satisfied: idna<3,>=2.5 in /usr/local/lib/python3.7/dist-packages (from requests>=2.19.0->dgl) (2.10)\n",
            "Requirement already satisfied: certifi>=2017.4.17 in /usr/local/lib/python3.7/dist-packages (from requests>=2.19.0->dgl) (2021.10.8)\n",
            "Requirement already satisfied: chardet<4,>=3.0.2 in /usr/local/lib/python3.7/dist-packages (from requests>=2.19.0->dgl) (3.0.4)\n",
            "Requirement already satisfied: urllib3!=1.25.0,!=1.25.1,<1.26,>=1.21.1 in /usr/local/lib/python3.7/dist-packages (from requests>=2.19.0->dgl) (1.24.3)\n"
          ]
        }
      ]
    },
    {
      "cell_type": "markdown",
      "source": [
        "Download and briefly view a DLG dataset: \"CiteseerGraphDataset.\""
      ],
      "metadata": {
        "id": "HszY_iVD2kCG"
      }
    },
    {
      "cell_type": "code",
      "source": [
        "print(\"Info:\")\n",
        "\n",
        "dataset = dgl.data.CiteseerGraphDataset()\n",
        "graph = dataset[0]\n",
        "\n",
        "print()\n",
        "print(\"Nodes:\")\n",
        "print(graph.ndata)\n",
        "\n",
        "print()\n",
        "print(\"Edges:\")\n",
        "print(graph.edata)"
      ],
      "metadata": {
        "colab": {
          "base_uri": "https://localhost:8080/"
        },
        "id": "eR_AbSzOhHgG",
        "outputId": "0fcf9528-8fa2-44ec-fd07-1b898518e561"
      },
      "execution_count": null,
      "outputs": [
        {
          "output_type": "stream",
          "name": "stdout",
          "text": [
            "Info:\n",
            "  NumNodes: 3327\n",
            "  NumEdges: 9228\n",
            "  NumFeats: 3703\n",
            "  NumClasses: 6\n",
            "  NumTrainingSamples: 120\n",
            "  NumValidationSamples: 500\n",
            "  NumTestSamples: 1000\n",
            "Done loading data from cached files.\n",
            "\n",
            "Nodes:\n",
            "{'feat': tensor([[0., 0., 0.,  ..., 0., 0., 0.],\n",
            "        [0., 0., 0.,  ..., 0., 0., 0.],\n",
            "        [0., 0., 0.,  ..., 0., 0., 0.],\n",
            "        ...,\n",
            "        [0., 0., 0.,  ..., 0., 0., 0.],\n",
            "        [0., 0., 0.,  ..., 0., 0., 0.],\n",
            "        [0., 0., 0.,  ..., 0., 0., 0.]]), 'label': tensor([1, 4, 1,  ..., 5, 3, 3]), 'test_mask': tensor([False, False, False,  ..., False, False, False]), 'train_mask': tensor([False,  True, False,  ..., False, False,  True]), 'val_mask': tensor([False, False, False,  ..., False, False, False])}\n",
            "\n",
            "Edges:\n",
            "{}\n"
          ]
        }
      ]
    },
    {
      "cell_type": "markdown",
      "source": [
        "**1.2. Graph Structure**\n",
        "\n",
        "Referring to \"CiteseerGraphDataset,\" first of all, generate a small toy dataset.\n",
        "\n",
        "Create a fully-connnected undirected graph structure with 10 nodes without assgining any value."
      ],
      "metadata": {
        "id": "U2uR9SkPYXMj"
      }
    },
    {
      "cell_type": "code",
      "source": [
        "def graph_structure():\n",
        "  u = []\n",
        "  v = []\n",
        "  for i in range(10):\n",
        "    for j in range(10):\n",
        "      if j == i:\n",
        "        pass\n",
        "      else:\n",
        "        u.append(i)\n",
        "        v.append(j)\n",
        "  return torch.tensor(u), torch.tensor(v)\n",
        "\n",
        "u, v = graph_structure()\n",
        "\n",
        "print(\"Direction (going from the nodes in the first list to the nodes in the second list):\")\n",
        "print(u)\n",
        "print(v)\n",
        "\n",
        "graph = dgl.graph((u, v))\n",
        "\n",
        "print()\n",
        "print(\"Graph:\")\n",
        "print(graph)"
      ],
      "metadata": {
        "colab": {
          "base_uri": "https://localhost:8080/"
        },
        "id": "-hZIofVGYXTT",
        "outputId": "a2ea1eba-d177-4217-d9b3-09092773a9de"
      },
      "execution_count": null,
      "outputs": [
        {
          "output_type": "stream",
          "name": "stdout",
          "text": [
            "Direction (going from the nodes in the first list to the nodes in the second list):\n",
            "tensor([0, 0, 0, 0, 0, 0, 0, 0, 0, 1, 1, 1, 1, 1, 1, 1, 1, 1, 2, 2, 2, 2, 2, 2,\n",
            "        2, 2, 2, 3, 3, 3, 3, 3, 3, 3, 3, 3, 4, 4, 4, 4, 4, 4, 4, 4, 4, 5, 5, 5,\n",
            "        5, 5, 5, 5, 5, 5, 6, 6, 6, 6, 6, 6, 6, 6, 6, 7, 7, 7, 7, 7, 7, 7, 7, 7,\n",
            "        8, 8, 8, 8, 8, 8, 8, 8, 8, 9, 9, 9, 9, 9, 9, 9, 9, 9])\n",
            "tensor([1, 2, 3, 4, 5, 6, 7, 8, 9, 0, 2, 3, 4, 5, 6, 7, 8, 9, 0, 1, 3, 4, 5, 6,\n",
            "        7, 8, 9, 0, 1, 2, 4, 5, 6, 7, 8, 9, 0, 1, 2, 3, 5, 6, 7, 8, 9, 0, 1, 2,\n",
            "        3, 4, 6, 7, 8, 9, 0, 1, 2, 3, 4, 5, 7, 8, 9, 0, 1, 2, 3, 4, 5, 6, 8, 9,\n",
            "        0, 1, 2, 3, 4, 5, 6, 7, 9, 0, 1, 2, 3, 4, 5, 6, 7, 8])\n",
            "\n",
            "Graph:\n",
            "Graph(num_nodes=10, num_edges=90,\n",
            "      ndata_schemes={}\n",
            "      edata_schemes={})\n"
          ]
        }
      ]
    },
    {
      "cell_type": "markdown",
      "source": [
        "**1.2. Node Feature Tensor**\n",
        "\n",
        "Randomly generate two types of arrays: $a_1(x)=x$ and $a_2(x)=e^x$, where x is a random number between 0 and 1, with 5 arrays for each type. \n",
        "\n",
        "Create binary classes 0 and 1. the $a_1$ array is associated with Class 0, and the $a_2$ array is associated with Class 1."
      ],
      "metadata": {
        "id": "UPEyAYD33q2y"
      }
    },
    {
      "cell_type": "code",
      "source": [
        "def linear(x):\n",
        "  return x\n",
        "\n",
        "def exponential(x):\n",
        "  return np.exp(x)\n",
        "\n",
        "def node_feature_tensor():\n",
        "  node_feature = []\n",
        "  node_class = []\n",
        "  count = 0\n",
        "  while count < 10:\n",
        "    if count < 5:\n",
        "      node_feature.append(list([linear(i * random.uniform(0, 1)) for i in [1]*10]))\n",
        "      node_class.append(0)\n",
        "    else:\n",
        "      node_feature.append(list([exponential(i * random.uniform(0, 1)) for i in [1]*10]))\n",
        "      node_class.append(1)\n",
        "    count += 1\n",
        "  return torch.tensor(node_feature), torch.tensor(node_class)\n",
        "\n",
        "node_feature, node_class = node_feature_tensor()"
      ],
      "metadata": {
        "id": "BtvsVuxs-deQ"
      },
      "execution_count": null,
      "outputs": []
    },
    {
      "cell_type": "code",
      "source": [
        "print(\"Node features:\")\n",
        "print(node_feature)\n",
        "print()\n",
        "print(\"Node classes:\")\n",
        "print(node_class)"
      ],
      "metadata": {
        "colab": {
          "base_uri": "https://localhost:8080/"
        },
        "id": "YbrOAl5KCvDx",
        "outputId": "4c324114-d777-44f9-f6a6-a98149e625e1"
      },
      "execution_count": null,
      "outputs": [
        {
          "output_type": "stream",
          "name": "stdout",
          "text": [
            "Node features:\n",
            "tensor([[0.2009, 0.2208, 0.6167, 0.9065, 0.8536, 0.0904, 0.0273, 0.3065, 0.5000,\n",
            "         0.8761],\n",
            "        [0.7696, 0.9617, 0.1193, 0.5953, 0.3030, 0.7936, 0.5916, 0.6350, 0.0109,\n",
            "         0.4817],\n",
            "        [0.0981, 0.2030, 0.9721, 0.9154, 0.3198, 0.6323, 0.9308, 0.0496, 0.7325,\n",
            "         0.8514],\n",
            "        [0.1472, 0.0857, 0.3597, 0.6580, 0.4471, 0.1381, 0.1557, 0.2933, 0.5436,\n",
            "         0.8067],\n",
            "        [0.3045, 0.2795, 0.6458, 0.0424, 0.6942, 0.2452, 0.2293, 0.2378, 0.6323,\n",
            "         0.2729],\n",
            "        [1.4731, 2.0616, 2.1462, 1.8847, 1.1206, 1.6223, 1.1305, 1.4746, 2.0960,\n",
            "         1.6367],\n",
            "        [2.2420, 1.1847, 1.2428, 1.0170, 1.5846, 2.1094, 1.4525, 1.0945, 1.1794,\n",
            "         1.0150],\n",
            "        [2.2632, 2.2738, 1.8747, 1.4774, 1.1751, 1.1389, 2.3439, 1.0866, 1.1912,\n",
            "         2.2994],\n",
            "        [2.3384, 2.2460, 1.5069, 2.2490, 2.4377, 2.3639, 2.0764, 1.5938, 1.0991,\n",
            "         1.3506],\n",
            "        [1.3934, 1.1746, 1.2304, 1.6686, 1.9157, 2.1198, 1.3452, 1.1554, 1.5796,\n",
            "         2.2632]], dtype=torch.float64)\n",
            "\n",
            "Node classes:\n",
            "tensor([0, 0, 0, 0, 0, 1, 1, 1, 1, 1])\n"
          ]
        }
      ]
    },
    {
      "cell_type": "markdown",
      "source": [
        "Connect the node features and the node classes with the graph."
      ],
      "metadata": {
        "id": "_LQk6WoH668k"
      }
    },
    {
      "cell_type": "code",
      "source": [
        "graph.ndata[\"feat\"] = node_feature\n",
        "graph.ndata[\"label\"] = node_class"
      ],
      "metadata": {
        "id": "9CdAxiLjbbJ3"
      },
      "execution_count": null,
      "outputs": []
    },
    {
      "cell_type": "markdown",
      "source": [
        "**1.3. Training, Validation and Test Nodes**\n",
        "\n",
        "Use 7 nodes for traning, 1 node for validation and 2 nodes for testing. Create the three corresponding mask tensors."
      ],
      "metadata": {
        "id": "etW3plQYRl1b"
      }
    },
    {
      "cell_type": "code",
      "source": [
        "def masks():\n",
        "  train = [True] * 10\n",
        "  val = [False] * 10\n",
        "  test = [False] * 10\n",
        "  val_node, test_node_1, test_node_2 = random.sample(range(0, 10), 3)\n",
        "  train[val_node], train[test_node_1], train[test_node_2] = False, False, False\n",
        "  val[val_node] = True\n",
        "  test[test_node_1], test[test_node_2] = True, True\n",
        "  return torch.tensor(train), torch.tensor(val), torch.tensor(test)\n",
        "\n",
        "train_mask, val_mask, test_mask = masks()\n",
        "\n",
        "print(\"Training mask:\")\n",
        "print(train_mask)\n",
        "print()\n",
        "print(\"Validation mask:\")\n",
        "print(val_mask)\n",
        "print()\n",
        "print(\"Test mask:\")\n",
        "print(test_mask)"
      ],
      "metadata": {
        "colab": {
          "base_uri": "https://localhost:8080/"
        },
        "id": "t5PiZ35SRPwL",
        "outputId": "0edc18ad-e51d-4e4d-b110-07f487d00261"
      },
      "execution_count": null,
      "outputs": [
        {
          "output_type": "stream",
          "name": "stdout",
          "text": [
            "Training mask:\n",
            "tensor([ True,  True, False, False,  True, False,  True,  True,  True,  True])\n",
            "\n",
            "Validation mask:\n",
            "tensor([False, False, False, False, False,  True, False, False, False, False])\n",
            "\n",
            "Test mask:\n",
            "tensor([False, False,  True,  True, False, False, False, False, False, False])\n"
          ]
        }
      ]
    },
    {
      "cell_type": "markdown",
      "source": [
        "Connect the masks with the graph."
      ],
      "metadata": {
        "id": "BAuzEaab7JP3"
      }
    },
    {
      "cell_type": "code",
      "source": [
        "graph.ndata[\"train_mask\"] = train_mask\n",
        "graph.ndata[\"val_mask\"] = val_mask\n",
        "graph.ndata[\"test_mask\"] = test_mask"
      ],
      "metadata": {
        "id": "UGk7lV_6bm2J"
      },
      "execution_count": null,
      "outputs": []
    },
    {
      "cell_type": "markdown",
      "source": [
        "**1.4. Edge Weight Tensor**\n",
        "\n",
        "Assign weights to the edges. Manually, assign a greater weight 0.8 to the edges between the nodes in the same class, and assign a smaller weight 0.3 otherwise."
      ],
      "metadata": {
        "id": "Vi-_IKE2QLnx"
      }
    },
    {
      "cell_type": "code",
      "source": [
        "def weights():\n",
        "  weights = []\n",
        "  class_0 = [0, 1, 2, 3, 4]\n",
        "  class_1 = [5, 6, 7, 8, 9]\n",
        "  for i in range(len(u)):\n",
        "    if (u[i] in class_0 and v[i] in class_0) or (u[i] in class_1 and v[i] in class_1):\n",
        "      weights.append(0.8)\n",
        "    else:\n",
        "      weights.append(0.3)\n",
        "  return torch.tensor(weights)\n",
        "\n",
        "w = weights()\n",
        "\n",
        "print(\"Edge weights:\")\n",
        "print(w)"
      ],
      "metadata": {
        "colab": {
          "base_uri": "https://localhost:8080/"
        },
        "id": "f0SFXI0Vd0TI",
        "outputId": "e67a1477-d2b3-4002-af22-d6134249e5dc"
      },
      "execution_count": null,
      "outputs": [
        {
          "output_type": "stream",
          "name": "stdout",
          "text": [
            "Edge weights:\n",
            "tensor([0.8000, 0.8000, 0.8000, 0.8000, 0.3000, 0.3000, 0.3000, 0.3000, 0.3000,\n",
            "        0.8000, 0.8000, 0.8000, 0.8000, 0.3000, 0.3000, 0.3000, 0.3000, 0.3000,\n",
            "        0.8000, 0.8000, 0.8000, 0.8000, 0.3000, 0.3000, 0.3000, 0.3000, 0.3000,\n",
            "        0.8000, 0.8000, 0.8000, 0.8000, 0.3000, 0.3000, 0.3000, 0.3000, 0.3000,\n",
            "        0.8000, 0.8000, 0.8000, 0.8000, 0.3000, 0.3000, 0.3000, 0.3000, 0.3000,\n",
            "        0.3000, 0.3000, 0.3000, 0.3000, 0.3000, 0.8000, 0.8000, 0.8000, 0.8000,\n",
            "        0.3000, 0.3000, 0.3000, 0.3000, 0.3000, 0.8000, 0.8000, 0.8000, 0.8000,\n",
            "        0.3000, 0.3000, 0.3000, 0.3000, 0.3000, 0.8000, 0.8000, 0.8000, 0.8000,\n",
            "        0.3000, 0.3000, 0.3000, 0.3000, 0.3000, 0.8000, 0.8000, 0.8000, 0.8000,\n",
            "        0.3000, 0.3000, 0.3000, 0.3000, 0.3000, 0.8000, 0.8000, 0.8000, 0.8000])\n"
          ]
        }
      ]
    },
    {
      "cell_type": "markdown",
      "source": [
        "Connect the edge weights with the graph."
      ],
      "metadata": {
        "id": "ho3O7vct7MEl"
      }
    },
    {
      "cell_type": "code",
      "source": [
        "graph.edata['w'] = w "
      ],
      "metadata": {
        "id": "7Wlgc3tAfPYT"
      },
      "execution_count": null,
      "outputs": []
    },
    {
      "cell_type": "markdown",
      "source": [
        "Look at the graph we generated."
      ],
      "metadata": {
        "id": "VbtrW4TqfUCi"
      }
    },
    {
      "cell_type": "code",
      "source": [
        "print(graph)"
      ],
      "metadata": {
        "colab": {
          "base_uri": "https://localhost:8080/"
        },
        "id": "4HbV3xAnfXdM",
        "outputId": "fb1482fc-047e-4add-e53e-dae8f3e2cc84"
      },
      "execution_count": null,
      "outputs": [
        {
          "output_type": "stream",
          "name": "stdout",
          "text": [
            "Graph(num_nodes=10, num_edges=90,\n",
            "      ndata_schemes={'feat': Scheme(shape=(10,), dtype=torch.float64), 'label': Scheme(shape=(), dtype=torch.int64), 'train_mask': Scheme(shape=(), dtype=torch.bool), 'val_mask': Scheme(shape=(), dtype=torch.bool), 'test_mask': Scheme(shape=(), dtype=torch.bool)}\n",
            "      edata_schemes={'w': Scheme(shape=(), dtype=torch.float32)})\n"
          ]
        }
      ]
    },
    {
      "cell_type": "markdown",
      "source": [
        "![Weights Temp.png](data:image/png;base64,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)"
      ],
      "metadata": {
        "id": "ZMQ5viDVbdv7"
      }
    },
    {
      "cell_type": "markdown",
      "source": [
        "# **2. GNN**\n",
        "\n",
        "**2.1. Set up a GNN**\n",
        "\n",
        "Contruct a two-layer GNN model."
      ],
      "metadata": {
        "id": "IqH8sQS6cCno"
      }
    },
    {
      "cell_type": "code",
      "source": [
        "class SAGE(nn.Module):\n",
        "    def __init__(self, in_feats, hid_feats, out_feats):\n",
        "        super().__init__()\n",
        "        self.conv1 = dglnn.SAGEConv(\n",
        "            in_feats=in_feats, out_feats=hid_feats, aggregator_type='mean')\n",
        "        self.conv2 = dglnn.SAGEConv(\n",
        "            in_feats=hid_feats, out_feats=out_feats, aggregator_type='mean')\n",
        "\n",
        "    def forward(self, graph, inputs):\n",
        "        # Inputs are features of nodes.\n",
        "        h = self.conv1(graph, inputs)\n",
        "        h = torch.tanh(h)\n",
        "        h = self.conv2(graph, h)\n",
        "        return h"
      ],
      "metadata": {
        "id": "Bedl6FJScCC_"
      },
      "execution_count": null,
      "outputs": []
    },
    {
      "cell_type": "markdown",
      "source": [
        "Load the variables from the graph."
      ],
      "metadata": {
        "id": "EPVvKYUQM13_"
      }
    },
    {
      "cell_type": "code",
      "source": [
        "node_features = graph.ndata['feat']\n",
        "node_labels = graph.ndata['label']\n",
        "train_mask = graph.ndata['train_mask']\n",
        "valid_mask = graph.ndata['val_mask']\n",
        "test_mask = graph.ndata['test_mask']\n",
        "n_features = node_features.shape[1]\n",
        "n_labels = int(node_labels.max().item() + 1)"
      ],
      "metadata": {
        "id": "1wD8Dewa-zbr"
      },
      "execution_count": null,
      "outputs": []
    },
    {
      "cell_type": "markdown",
      "source": [
        "**2.2. Node Classification**\n",
        "\n",
        "Define an evaluation function."
      ],
      "metadata": {
        "id": "SOzDTc8DNAdK"
      }
    },
    {
      "cell_type": "code",
      "source": [
        "def evaluate(model, graph, features, labels, mask):\n",
        "    model.eval()\n",
        "    with torch.no_grad():\n",
        "        logits = model(graph, features)\n",
        "        logits = logits[mask]\n",
        "        labels = labels[mask]\n",
        "        _, indices = torch.max(logits, dim=1)\n",
        "        print(\"Validation / test observed class:\", labels.tolist(), \"| predicted class:\", indices.tolist())\n",
        "        correct = torch.sum(indices == labels)\n",
        "        return correct.item() * 1.0 / len(labels)"
      ],
      "metadata": {
        "id": "qvxI6gRV-7Pb"
      },
      "execution_count": null,
      "outputs": []
    },
    {
      "cell_type": "markdown",
      "source": [
        "Train, validate and test the GNN model for node classification.\n",
        "\n",
        "Note: Add .float() after node_features to avoid [a runtime error](https://stackoverflow.com/questions/66074684/runtimeerror-expected-scalar-type-double-but-found-float-in-pytorch-cnn-train)."
      ],
      "metadata": {
        "id": "HZJhs-jNCoYJ"
      }
    },
    {
      "cell_type": "code",
      "source": [
        "model = SAGE(in_feats=n_features, hid_feats=100, out_feats=n_labels)\n",
        "opt = torch.optim.Adam(model.parameters())\n",
        "\n",
        "for epoch in range(30):\n",
        "    print(\"Epoch:\", epoch+1)\n",
        "    model.train()\n",
        "    # Forward propagation by using all nodes\n",
        "    logits = model(graph, node_features.float())\n",
        "    # Compute loss.\n",
        "    loss = F.cross_entropy(logits[train_mask], node_labels[train_mask])\n",
        "    # Compute validation accuracy.\n",
        "    acc = evaluate(model, graph, node_features.float(), node_labels, valid_mask)\n",
        "    # Backward propagation\n",
        "    opt.zero_grad()\n",
        "    loss.backward()\n",
        "    opt.step()\n",
        "    print(\"Training loss: %.4f\" % loss.item(), \"| validation accuracy:\", acc)\n",
        "    print()\n",
        "\n",
        "print(\"--------------------\")\n",
        "test_acc = evaluate(model, graph, node_features.float(), node_labels, test_mask)\n",
        "print(\"Test accuracy: \", test_acc)"
      ],
      "metadata": {
        "colab": {
          "base_uri": "https://localhost:8080/"
        },
        "id": "YWrRGlx_-9Gl",
        "outputId": "d056e0be-87f1-4af9-c4ca-e939473d1e8b"
      },
      "execution_count": null,
      "outputs": [
        {
          "output_type": "stream",
          "name": "stdout",
          "text": [
            "Epoch: 1\n",
            "Validation / test observed class: [1] | predicted class: [0]\n",
            "Training loss: 1.2007 | validation accuracy: 0.0\n",
            "\n",
            "Epoch: 2\n",
            "Validation / test observed class: [1] | predicted class: [0]\n",
            "Training loss: 1.0907 | validation accuracy: 0.0\n",
            "\n",
            "Epoch: 3\n",
            "Validation / test observed class: [1] | predicted class: [1]\n",
            "Training loss: 1.0097 | validation accuracy: 1.0\n",
            "\n",
            "Epoch: 4\n",
            "Validation / test observed class: [1] | predicted class: [1]\n",
            "Training loss: 0.9310 | validation accuracy: 1.0\n",
            "\n",
            "Epoch: 5\n",
            "Validation / test observed class: [1] | predicted class: [1]\n",
            "Training loss: 0.8507 | validation accuracy: 1.0\n",
            "\n",
            "Epoch: 6\n",
            "Validation / test observed class: [1] | predicted class: [1]\n",
            "Training loss: 0.7728 | validation accuracy: 1.0\n",
            "\n",
            "Epoch: 7\n",
            "Validation / test observed class: [1] | predicted class: [1]\n",
            "Training loss: 0.7014 | validation accuracy: 1.0\n",
            "\n",
            "Epoch: 8\n",
            "Validation / test observed class: [1] | predicted class: [1]\n",
            "Training loss: 0.6381 | validation accuracy: 1.0\n",
            "\n",
            "Epoch: 9\n",
            "Validation / test observed class: [1] | predicted class: [1]\n",
            "Training loss: 0.5816 | validation accuracy: 1.0\n",
            "\n",
            "Epoch: 10\n",
            "Validation / test observed class: [1] | predicted class: [1]\n",
            "Training loss: 0.5295 | validation accuracy: 1.0\n",
            "\n",
            "Epoch: 11\n",
            "Validation / test observed class: [1] | predicted class: [1]\n",
            "Training loss: 0.4802 | validation accuracy: 1.0\n",
            "\n",
            "Epoch: 12\n",
            "Validation / test observed class: [1] | predicted class: [1]\n",
            "Training loss: 0.4345 | validation accuracy: 1.0\n",
            "\n",
            "Epoch: 13\n",
            "Validation / test observed class: [1] | predicted class: [1]\n",
            "Training loss: 0.3933 | validation accuracy: 1.0\n",
            "\n",
            "Epoch: 14\n",
            "Validation / test observed class: [1] | predicted class: [1]\n",
            "Training loss: 0.3571 | validation accuracy: 1.0\n",
            "\n",
            "Epoch: 15\n",
            "Validation / test observed class: [1] | predicted class: [1]\n",
            "Training loss: 0.3254 | validation accuracy: 1.0\n",
            "\n",
            "Epoch: 16\n",
            "Validation / test observed class: [1] | predicted class: [1]\n",
            "Training loss: 0.2971 | validation accuracy: 1.0\n",
            "\n",
            "Epoch: 17\n",
            "Validation / test observed class: [1] | predicted class: [1]\n",
            "Training loss: 0.2713 | validation accuracy: 1.0\n",
            "\n",
            "Epoch: 18\n",
            "Validation / test observed class: [1] | predicted class: [1]\n",
            "Training loss: 0.2478 | validation accuracy: 1.0\n",
            "\n",
            "Epoch: 19\n",
            "Validation / test observed class: [1] | predicted class: [1]\n",
            "Training loss: 0.2265 | validation accuracy: 1.0\n",
            "\n",
            "Epoch: 20\n",
            "Validation / test observed class: [1] | predicted class: [1]\n",
            "Training loss: 0.2075 | validation accuracy: 1.0\n",
            "\n",
            "Epoch: 21\n",
            "Validation / test observed class: [1] | predicted class: [1]\n",
            "Training loss: 0.1907 | validation accuracy: 1.0\n",
            "\n",
            "Epoch: 22\n",
            "Validation / test observed class: [1] | predicted class: [1]\n",
            "Training loss: 0.1759 | validation accuracy: 1.0\n",
            "\n",
            "Epoch: 23\n",
            "Validation / test observed class: [1] | predicted class: [1]\n",
            "Training loss: 0.1627 | validation accuracy: 1.0\n",
            "\n",
            "Epoch: 24\n",
            "Validation / test observed class: [1] | predicted class: [1]\n",
            "Training loss: 0.1508 | validation accuracy: 1.0\n",
            "\n",
            "Epoch: 25\n",
            "Validation / test observed class: [1] | predicted class: [1]\n",
            "Training loss: 0.1400 | validation accuracy: 1.0\n",
            "\n",
            "Epoch: 26\n",
            "Validation / test observed class: [1] | predicted class: [1]\n",
            "Training loss: 0.1302 | validation accuracy: 1.0\n",
            "\n",
            "Epoch: 27\n",
            "Validation / test observed class: [1] | predicted class: [1]\n",
            "Training loss: 0.1212 | validation accuracy: 1.0\n",
            "\n",
            "Epoch: 28\n",
            "Validation / test observed class: [1] | predicted class: [1]\n",
            "Training loss: 0.1131 | validation accuracy: 1.0\n",
            "\n",
            "Epoch: 29\n",
            "Validation / test observed class: [1] | predicted class: [1]\n",
            "Training loss: 0.1059 | validation accuracy: 1.0\n",
            "\n",
            "Epoch: 30\n",
            "Validation / test observed class: [1] | predicted class: [1]\n",
            "Training loss: 0.0993 | validation accuracy: 1.0\n",
            "\n",
            "--------------------\n",
            "Validation / test observed class: [0, 0] | predicted class: [0, 0]\n",
            "Test accuracy:  1.0\n"
          ]
        }
      ]
    },
    {
      "cell_type": "markdown",
      "source": [
        "**2.3. Node Regression**\n",
        "\n"
      ],
      "metadata": {
        "id": "8THfFfAbOxJq"
      }
    },
    {
      "cell_type": "markdown",
      "source": [
        "We need to change the graph. Instead of assigning a class to a node, assign a ground truth number to every node.\n",
        "\n",
        "Generate some random numbers for the 10 nodes."
      ],
      "metadata": {
        "id": "MvS27m-BQmgJ"
      }
    },
    {
      "cell_type": "code",
      "source": [
        "def node_ground_truth_number():\n",
        "  node_number = []\n",
        "  count = 0\n",
        "  while count < 10:\n",
        "    if count < 5:\n",
        "      node_number.append(random.uniform(0.1, 0.4))\n",
        "    else:\n",
        "      node_number.append(random.uniform(0.6, 0.9))\n",
        "    count += 1\n",
        "  return torch.tensor(node_number)\n",
        "\n",
        "node_number = node_ground_truth_number()\n",
        "\n",
        "graph.ndata['label'] = node_number"
      ],
      "metadata": {
        "id": "_rUvyPP7Q1Zp"
      },
      "execution_count": null,
      "outputs": []
    },
    {
      "cell_type": "code",
      "source": [
        "node_labels = graph.ndata['label']"
      ],
      "metadata": {
        "id": "6FOjX4DKSea7"
      },
      "execution_count": null,
      "outputs": []
    },
    {
      "cell_type": "markdown",
      "source": [
        "Slightly modify the code in 2.2 and convert the task into a regression task.\n",
        "\n",
        "The changed lines are followed by a sharp symbol (#)."
      ],
      "metadata": {
        "id": "GUxwBx0sQluq"
      }
    },
    {
      "cell_type": "code",
      "source": [
        "class SAGE(nn.Module):\n",
        "    def __init__(self, in_feats, hid_feats, out_feats):\n",
        "        super().__init__()\n",
        "        self.conv1 = dglnn.SAGEConv(\n",
        "            in_feats=in_feats, out_feats=hid_feats, aggregator_type='mean')\n",
        "        self.conv2 = dglnn.SAGEConv(\n",
        "            in_feats=hid_feats, out_feats=out_feats, aggregator_type='mean')\n",
        "\n",
        "    def forward(self, graph, inputs):\n",
        "        # Inputs are features of nodes.\n",
        "        h = self.conv1(graph, inputs)\n",
        "        h = torch.sigmoid(h) #\n",
        "        h = self.conv2(graph, h)\n",
        "        return h"
      ],
      "metadata": {
        "id": "FyHG8dqVcXqU"
      },
      "execution_count": null,
      "outputs": []
    },
    {
      "cell_type": "code",
      "source": [
        "def evaluate(model, graph, features, labels, mask):\n",
        "    model.eval()\n",
        "    with torch.no_grad():\n",
        "        values = model(graph, features) #\n",
        "        values = torch.squeeze(values[mask]) #\n",
        "        labels = torch.squeeze(labels[mask]) #\n",
        "        print(\"Validation / test observed number:\", labels.tolist(), \"| predicted number:\", values.tolist()) #\n",
        "        mse = ((values - labels) ** 2).mean() #\n",
        "        return mse #"
      ],
      "metadata": {
        "id": "YOfrpwNnO8k3"
      },
      "execution_count": null,
      "outputs": []
    },
    {
      "cell_type": "code",
      "source": [
        "model = SAGE(in_feats=n_features, hid_feats=100, out_feats=1)\n",
        "opt = torch.optim.Adam(model.parameters(), lr=0.001) #\n",
        "\n",
        "for epoch in range(50): #\n",
        "    print(\"Epoch:\", epoch+1)\n",
        "    model.train()\n",
        "    # Forward propagation by using all nodes\n",
        "    values = model(graph, node_features.float()) #\n",
        "    # Compute loss.\n",
        "    loss = ((values[train_mask] - node_labels[train_mask]) ** 2).mean() #\n",
        "    # Compute validation MSE.\n",
        "    mse = evaluate(model, graph, node_features.float(), node_labels, valid_mask) #\n",
        "    mse = mse.tolist() #\n",
        "    # Backward propagation\n",
        "    opt.zero_grad()\n",
        "    loss.backward()\n",
        "    opt.step()\n",
        "    print(\"Training loss: %.4f\" % loss.item(), \"| validation MSE: %.4f\" % mse) #\n",
        "    print()\n",
        "\n",
        "print(\"--------------------\")\n",
        "test_mse = evaluate(model, graph, node_features.float(), node_labels, test_mask) #\n",
        "test_mse = test_mse.tolist() #\n",
        "print(\"Test MSE: %.4f\" % test_mse) #"
      ],
      "metadata": {
        "colab": {
          "base_uri": "https://localhost:8080/"
        },
        "id": "-YeqpY__O_af",
        "outputId": "f2928688-0d0c-4cc4-bd77-388c9fc0ace0"
      },
      "execution_count": null,
      "outputs": [
        {
          "output_type": "stream",
          "name": "stdout",
          "text": [
            "Epoch: 1\n",
            "Validation / test observed number: 0.6702939867973328 | predicted number: 0.555672287940979\n",
            "Training loss: 0.0772 | validation MSE: 0.0131\n",
            "\n",
            "Epoch: 2\n",
            "Validation / test observed number: 0.6702939867973328 | predicted number: 0.37360233068466187\n",
            "Training loss: 0.0862 | validation MSE: 0.0880\n",
            "\n",
            "Epoch: 3\n",
            "Validation / test observed number: 0.6702939867973328 | predicted number: 0.4537048041820526\n",
            "Training loss: 0.0721 | validation MSE: 0.0469\n",
            "\n",
            "Epoch: 4\n",
            "Validation / test observed number: 0.6702939867973328 | predicted number: 0.5595546960830688\n",
            "Training loss: 0.0688 | validation MSE: 0.0123\n",
            "\n",
            "Epoch: 5\n",
            "Validation / test observed number: 0.6702939867973328 | predicted number: 0.6176486611366272\n",
            "Training loss: 0.0731 | validation MSE: 0.0028\n",
            "\n",
            "Epoch: 6\n",
            "Validation / test observed number: 0.6702939867973328 | predicted number: 0.6119454503059387\n",
            "Training loss: 0.0697 | validation MSE: 0.0034\n",
            "\n",
            "Epoch: 7\n",
            "Validation / test observed number: 0.6702939867973328 | predicted number: 0.5711270570755005\n",
            "Training loss: 0.0646 | validation MSE: 0.0098\n",
            "\n",
            "Epoch: 8\n",
            "Validation / test observed number: 0.6702939867973328 | predicted number: 0.5255171060562134\n",
            "Training loss: 0.0646 | validation MSE: 0.0210\n",
            "\n",
            "Epoch: 9\n",
            "Validation / test observed number: 0.6702939867973328 | predicted number: 0.5025469660758972\n",
            "Training loss: 0.0671 | validation MSE: 0.0281\n",
            "\n",
            "Epoch: 10\n",
            "Validation / test observed number: 0.6702939867973328 | predicted number: 0.513083815574646\n",
            "Training loss: 0.0665 | validation MSE: 0.0247\n",
            "\n",
            "Epoch: 11\n",
            "Validation / test observed number: 0.6702939867973328 | predicted number: 0.54891437292099\n",
            "Training loss: 0.0639 | validation MSE: 0.0147\n",
            "\n",
            "Epoch: 12\n",
            "Validation / test observed number: 0.6702939867973328 | predicted number: 0.5938199758529663\n",
            "Training loss: 0.0631 | validation MSE: 0.0058\n",
            "\n",
            "Epoch: 13\n",
            "Validation / test observed number: 0.6702939867973328 | predicted number: 0.6296907067298889\n",
            "Training loss: 0.0645 | validation MSE: 0.0016\n",
            "\n",
            "Epoch: 14\n",
            "Validation / test observed number: 0.6702939867973328 | predicted number: 0.6434507369995117\n",
            "Training loss: 0.0653 | validation MSE: 0.0007\n",
            "\n",
            "Epoch: 15\n",
            "Validation / test observed number: 0.6702939867973328 | predicted number: 0.6335264444351196\n",
            "Training loss: 0.0642 | validation MSE: 0.0014\n",
            "\n",
            "Epoch: 16\n",
            "Validation / test observed number: 0.6702939867973328 | predicted number: 0.6079541444778442\n",
            "Training loss: 0.0627 | validation MSE: 0.0039\n",
            "\n",
            "Epoch: 17\n",
            "Validation / test observed number: 0.6702939867973328 | predicted number: 0.5793864727020264\n",
            "Training loss: 0.0626 | validation MSE: 0.0083\n",
            "\n",
            "Epoch: 18\n",
            "Validation / test observed number: 0.6702939867973328 | predicted number: 0.5604862570762634\n",
            "Training loss: 0.0634 | validation MSE: 0.0121\n",
            "\n",
            "Epoch: 19\n",
            "Validation / test observed number: 0.6702939867973328 | predicted number: 0.5584737658500671\n",
            "Training loss: 0.0632 | validation MSE: 0.0125\n",
            "\n",
            "Epoch: 20\n",
            "Validation / test observed number: 0.6702939867973328 | predicted number: 0.5722935199737549\n",
            "Training loss: 0.0620 | validation MSE: 0.0096\n",
            "\n",
            "Epoch: 21\n",
            "Validation / test observed number: 0.6702939867973328 | predicted number: 0.5944454669952393\n",
            "Training loss: 0.0612 | validation MSE: 0.0058\n",
            "\n",
            "Epoch: 22\n",
            "Validation / test observed number: 0.6702939867973328 | predicted number: 0.614561915397644\n",
            "Training loss: 0.0613 | validation MSE: 0.0031\n",
            "\n",
            "Epoch: 23\n",
            "Validation / test observed number: 0.6702939867973328 | predicted number: 0.6236695647239685\n",
            "Training loss: 0.0616 | validation MSE: 0.0022\n",
            "\n",
            "Epoch: 24\n",
            "Validation / test observed number: 0.6702939867973328 | predicted number: 0.6182482838630676\n",
            "Training loss: 0.0611 | validation MSE: 0.0027\n",
            "\n",
            "Epoch: 25\n",
            "Validation / test observed number: 0.6702939867973328 | predicted number: 0.6013534665107727\n",
            "Training loss: 0.0603 | validation MSE: 0.0048\n",
            "\n",
            "Epoch: 26\n",
            "Validation / test observed number: 0.6702939867973328 | predicted number: 0.5806307792663574\n",
            "Training loss: 0.0601 | validation MSE: 0.0080\n",
            "\n",
            "Epoch: 27\n",
            "Validation / test observed number: 0.6702939867973328 | predicted number: 0.564918041229248\n",
            "Training loss: 0.0603 | validation MSE: 0.0111\n",
            "\n",
            "Epoch: 28\n",
            "Validation / test observed number: 0.6702939867973328 | predicted number: 0.5603330731391907\n",
            "Training loss: 0.0604 | validation MSE: 0.0121\n",
            "\n",
            "Epoch: 29\n",
            "Validation / test observed number: 0.6702939867973328 | predicted number: 0.5675793290138245\n",
            "Training loss: 0.0600 | validation MSE: 0.0106\n",
            "\n",
            "Epoch: 30\n",
            "Validation / test observed number: 0.6702939867973328 | predicted number: 0.582126259803772\n",
            "Training loss: 0.0596 | validation MSE: 0.0078\n",
            "\n",
            "Epoch: 31\n",
            "Validation / test observed number: 0.6702939867973328 | predicted number: 0.5966305732727051\n",
            "Training loss: 0.0597 | validation MSE: 0.0054\n",
            "\n",
            "Epoch: 32\n",
            "Validation / test observed number: 0.6702939867973328 | predicted number: 0.6043782234191895\n",
            "Training loss: 0.0598 | validation MSE: 0.0043\n",
            "\n",
            "Epoch: 33\n",
            "Validation / test observed number: 0.6702939867973328 | predicted number: 0.6024484634399414\n",
            "Training loss: 0.0596 | validation MSE: 0.0046\n",
            "\n",
            "Epoch: 34\n",
            "Validation / test observed number: 0.6702939867973328 | predicted number: 0.5928575396537781\n",
            "Training loss: 0.0593 | validation MSE: 0.0060\n",
            "\n",
            "Epoch: 35\n",
            "Validation / test observed number: 0.6702939867973328 | predicted number: 0.5812205076217651\n",
            "Training loss: 0.0592 | validation MSE: 0.0079\n",
            "\n",
            "Epoch: 36\n",
            "Validation / test observed number: 0.6702939867973328 | predicted number: 0.5738862752914429\n",
            "Training loss: 0.0593 | validation MSE: 0.0093\n",
            "\n",
            "Epoch: 37\n",
            "Validation / test observed number: 0.6702939867973328 | predicted number: 0.5747918486595154\n",
            "Training loss: 0.0592 | validation MSE: 0.0091\n",
            "\n",
            "Epoch: 38\n",
            "Validation / test observed number: 0.6702939867973328 | predicted number: 0.5836164355278015\n",
            "Training loss: 0.0589 | validation MSE: 0.0075\n",
            "\n",
            "Epoch: 39\n",
            "Validation / test observed number: 0.6702939867973328 | predicted number: 0.596222996711731\n",
            "Training loss: 0.0588 | validation MSE: 0.0055\n",
            "\n",
            "Epoch: 40\n",
            "Validation / test observed number: 0.6702939867973328 | predicted number: 0.6069187521934509\n",
            "Training loss: 0.0588 | validation MSE: 0.0040\n",
            "\n",
            "Epoch: 41\n",
            "Validation / test observed number: 0.6702939867973328 | predicted number: 0.6113828420639038\n",
            "Training loss: 0.0588 | validation MSE: 0.0035\n",
            "\n",
            "Epoch: 42\n",
            "Validation / test observed number: 0.6702939867973328 | predicted number: 0.6088010668754578\n",
            "Training loss: 0.0586 | validation MSE: 0.0038\n",
            "\n",
            "Epoch: 43\n",
            "Validation / test observed number: 0.6702939867973328 | predicted number: 0.6020293831825256\n",
            "Training loss: 0.0585 | validation MSE: 0.0047\n",
            "\n",
            "Epoch: 44\n",
            "Validation / test observed number: 0.6702939867973328 | predicted number: 0.5958502888679504\n",
            "Training loss: 0.0585 | validation MSE: 0.0055\n",
            "\n",
            "Epoch: 45\n",
            "Validation / test observed number: 0.6702939867973328 | predicted number: 0.5943259000778198\n",
            "Training loss: 0.0585 | validation MSE: 0.0058\n",
            "\n",
            "Epoch: 46\n",
            "Validation / test observed number: 0.6702939867973328 | predicted number: 0.598642110824585\n",
            "Training loss: 0.0584 | validation MSE: 0.0051\n",
            "\n",
            "Epoch: 47\n",
            "Validation / test observed number: 0.6702939867973328 | predicted number: 0.606644868850708\n",
            "Training loss: 0.0583 | validation MSE: 0.0041\n",
            "\n",
            "Epoch: 48\n",
            "Validation / test observed number: 0.6702939867973328 | predicted number: 0.6142187118530273\n",
            "Training loss: 0.0583 | validation MSE: 0.0031\n",
            "\n",
            "Epoch: 49\n",
            "Validation / test observed number: 0.6702939867973328 | predicted number: 0.6176620721817017\n",
            "Training loss: 0.0583 | validation MSE: 0.0028\n",
            "\n",
            "Epoch: 50\n",
            "Validation / test observed number: 0.6702939867973328 | predicted number: 0.6157262921333313\n",
            "Training loss: 0.0582 | validation MSE: 0.0030\n",
            "\n",
            "--------------------\n",
            "Validation / test observed number: [0.3332640826702118, 0.2678687572479248] | predicted number: [0.6215342879295349, 0.4806807041168213]\n",
            "Test MSE: 0.0642\n"
          ]
        }
      ]
    }
  ]
}